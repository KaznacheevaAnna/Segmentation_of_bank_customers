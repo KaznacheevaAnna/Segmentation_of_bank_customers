{
 "cells": [
  {
   "cell_type": "markdown",
   "id": "31258fbb",
   "metadata": {
    "toc": true
   },
   "source": [
    "<h1>Банки — Сегментация пользователей по потреблению<span class=\"tocSkip\"></span></h1>\n",
    "<div class=\"toc\"><ul class=\"toc-item\"><li><span><a href=\"#Первичное-знакомство\" data-toc-modified-id=\"Первичное-знакомство-1\"><span class=\"toc-item-num\">1&nbsp;&nbsp;</span>Первичное знакомство</a></span></li><li><span><a href=\"#Предобработка-данных\" data-toc-modified-id=\"Предобработка-данных-2\"><span class=\"toc-item-num\">2&nbsp;&nbsp;</span>Предобработка данных</a></span></li><li><span><a href=\"#Исследовательский-анализ-данных\" data-toc-modified-id=\"Исследовательский-анализ-данных-3\"><span class=\"toc-item-num\">3&nbsp;&nbsp;</span>Исследовательский анализ данных</a></span></li><li><span><a href=\"#Сегментация-данных\" data-toc-modified-id=\"Сегментация-данных-4\"><span class=\"toc-item-num\">4&nbsp;&nbsp;</span>Сегментация данных</a></span></li><li><span><a href=\"#Проверка-гипотез\" data-toc-modified-id=\"Проверка-гипотез-5\"><span class=\"toc-item-num\">5&nbsp;&nbsp;</span>Проверка гипотез</a></span></li><li><span><a href=\"#Вывод-и-рекомендации\" data-toc-modified-id=\"Вывод-и-рекомендации-6\"><span class=\"toc-item-num\">6&nbsp;&nbsp;</span>Вывод и рекомендации</a></span></li><li><span><a href=\"#Презентация\" data-toc-modified-id=\"Презентация-7\"><span class=\"toc-item-num\">7&nbsp;&nbsp;</span>Презентация</a></span></li><li><span><a href=\"#Дашборд\" data-toc-modified-id=\"Дашборд-8\"><span class=\"toc-item-num\">8&nbsp;&nbsp;</span>Дашборд</a></span></li></ul></div>"
   ]
  },
  {
   "cell_type": "markdown",
   "id": "17e186e7",
   "metadata": {},
   "source": [
    "\n",
    "**Цель: проанализировать клиентов регионального банка и сегментировать пользователей по количеству потребляемых продуктов, обращая особое внимание на отток. Дополнительно проверить поведение клиентов с учетом баланса на счетах и зарплаты**\n",
    "\n",
    "**План исследования:**\n",
    "\n",
    "**1.  Первичное знакомство**\n",
    "\n",
    "  1.1. Изучение колонок\n",
    "- `userid` — уникальный номер клиента,\n",
    "- `score` — баллы кредитного скоринга,\n",
    "- `сity` — город,\n",
    "- `gender` — пол,\n",
    "- `age` — возраст,\n",
    "- `objects` — количество объектов в собственности,\n",
    "- `balance` — баланс на счёте,\n",
    "- `products` — количество продуктов, которыми пользуется клиент,\n",
    "- `creditCard` — есть ли кредитная карта,\n",
    "- `loyalty` — отточный или активный клиент,\n",
    "- `estimated_salary` — заработная плата клиента,\n",
    "- `churn` - ушёл или нет\n",
    "\n",
    "  1.2. Загрузка библиотек\n",
    "\n",
    "**2. Преобработка данных**\n",
    "- пропуски: содержатся только в колонке balance (баланс на счёте). Пропуски заполнять не будем, так как нет цели построить модель и при работе с данными пустые значения мешать не будут. При этом планирую при построении графиков учитывать данный столбец, заполнение пропусков может исказить результаты/выводы и нагрузить код. Скорей всего пропуски связаны с нулевыми значениями на балансе и наличием только кредитных продуктов (итак должны банку), не исключаю и сбои в момент загрузки из соответствующей таблицы\n",
    "- дубликаты: отсутствуют\n",
    "- регистр: привести все столбцы к нижнему регистру для удобства работы и аккуратности визуала/кода\n",
    "- аномальные/отрицательные значения: отсутствуют\n",
    "- новые столбцы: добавить столбцы для дальнейшей сегментации/анализа\n",
    "  \n",
    "    a) балансы на счетах - macc (среднестатистический клиент), премиум (клиент доверяет банку) и вип (клиент располагает ресурсами и доверяет банку)\n",
    "  \n",
    "    b) возрастной диапазон\n",
    "\n",
    "\n",
    "**3. Исследовательский анализ данных**\n",
    "\n",
    "Построить информативные графики саплот и корреляции по географии, полу и сегментам выше, обращая особое внимание на отток и описать промежуточные выводы\n",
    "\n",
    "**4. Сегментация данных**\n",
    "\n",
    "Проанализировать новые столбцы, которые были добавлены для сегментации и описать промежуточные выводы\n",
    "\n",
    "\n",
    "**5. Проверка гипотез**\n",
    "\n",
    "Первая гипотеза: проверить гипотезу различия дохода между теми клиентами, которые пользуются двумя продуктами банка, и теми, которые пользуются одним\n",
    "\n",
    "Вторая гипотеза: проверить гипотезу различия по среднему кол-ву потребляемых продуктов между сегментами по гендерному признаку\n",
    "\n",
    "Будет использован Z-тест\n",
    "\n",
    "**6. Выводы и рекомендации**\n",
    "\n",
    "Описать итоговые выводы, которые помогут определиться со стратегией банка и маркетинговыми акциями, а также, возможно, будут полезны для внедрения новых управленческих или мотивационных метрик/таргетов"
   ]
  },
  {
   "cell_type": "markdown",
   "id": "f465dbdf",
   "metadata": {},
   "source": [
    "## Первичное знакомство"
   ]
  },
  {
   "cell_type": "code",
   "execution_count": 1,
   "id": "1ef9ef7c",
   "metadata": {},
   "outputs": [
    {
     "name": "stdout",
     "output_type": "stream",
     "text": [
      "Note: you may need to restart the kernel to use updated packages.\n"
     ]
    }
   ],
   "source": [
    "%pip install -U kaleido -q"
   ]
  },
  {
   "cell_type": "code",
   "execution_count": 2,
   "id": "c0c7e271",
   "metadata": {},
   "outputs": [
    {
     "name": "stdout",
     "output_type": "stream",
     "text": [
      "Requirement already satisfied: plotly in /opt/conda/lib/python3.9/site-packages (5.4.0)\n",
      "Collecting plotly\n",
      "  Downloading plotly-5.11.0-py2.py3-none-any.whl (15.3 MB)\n",
      "\u001b[K     |████████████████████████████████| 15.3 MB 1.9 MB/s eta 0:00:01\n",
      "\u001b[?25hRequirement already satisfied: tenacity>=6.2.0 in /opt/conda/lib/python3.9/site-packages (from plotly) (8.0.1)\n",
      "Installing collected packages: plotly\n",
      "  Attempting uninstall: plotly\n",
      "    Found existing installation: plotly 5.4.0\n",
      "    Uninstalling plotly-5.4.0:\n",
      "      Successfully uninstalled plotly-5.4.0\n",
      "Successfully installed plotly-5.11.0\n",
      "Note: you may need to restart the kernel to use updated packages.\n"
     ]
    }
   ],
   "source": [
    "%pip install plotly --upgrade"
   ]
  },
  {
   "cell_type": "code",
   "execution_count": 3,
   "id": "90344673",
   "metadata": {},
   "outputs": [
    {
     "name": "stdout",
     "output_type": "stream",
     "text": [
      "Collecting phik\n",
      "  Downloading phik-0.12.2-cp39-cp39-manylinux_2_17_x86_64.manylinux2014_x86_64.whl (709 kB)\n",
      "\u001b[K     |████████████████████████████████| 709 kB 1.4 MB/s eta 0:00:01\n",
      "\u001b[?25hRequirement already satisfied: pandas>=0.25.1 in /opt/conda/lib/python3.9/site-packages (from phik) (1.2.4)\n",
      "Requirement already satisfied: matplotlib>=2.2.3 in /opt/conda/lib/python3.9/site-packages (from phik) (3.3.4)\n",
      "Requirement already satisfied: joblib>=0.14.1 in /opt/conda/lib/python3.9/site-packages (from phik) (1.1.0)\n",
      "Requirement already satisfied: scipy>=1.5.2 in /opt/conda/lib/python3.9/site-packages (from phik) (1.9.1)\n",
      "Requirement already satisfied: numpy>=1.18.0 in /opt/conda/lib/python3.9/site-packages (from phik) (1.21.1)\n",
      "Requirement already satisfied: cycler>=0.10 in /opt/conda/lib/python3.9/site-packages (from matplotlib>=2.2.3->phik) (0.11.0)\n",
      "Requirement already satisfied: kiwisolver>=1.0.1 in /opt/conda/lib/python3.9/site-packages (from matplotlib>=2.2.3->phik) (1.4.4)\n",
      "Requirement already satisfied: pyparsing!=2.0.4,!=2.1.2,!=2.1.6,>=2.0.3 in /opt/conda/lib/python3.9/site-packages (from matplotlib>=2.2.3->phik) (2.4.7)\n",
      "Requirement already satisfied: pillow>=6.2.0 in /opt/conda/lib/python3.9/site-packages (from matplotlib>=2.2.3->phik) (8.4.0)\n",
      "Requirement already satisfied: python-dateutil>=2.1 in /opt/conda/lib/python3.9/site-packages (from matplotlib>=2.2.3->phik) (2.8.1)\n",
      "Requirement already satisfied: pytz>=2017.3 in /opt/conda/lib/python3.9/site-packages (from pandas>=0.25.1->phik) (2021.1)\n",
      "Requirement already satisfied: six>=1.5 in /opt/conda/lib/python3.9/site-packages (from python-dateutil>=2.1->matplotlib>=2.2.3->phik) (1.16.0)\n",
      "Installing collected packages: phik\n",
      "Successfully installed phik-0.12.2\n",
      "Note: you may need to restart the kernel to use updated packages.\n"
     ]
    }
   ],
   "source": [
    "%pip install phik"
   ]
  },
  {
   "cell_type": "code",
   "execution_count": 4,
   "id": "c3efc34f",
   "metadata": {},
   "outputs": [],
   "source": [
    "#загрузила библиотеки\n",
    "import pandas as pd\n",
    "import datetime as dt\n",
    "import numpy as np\n",
    "from scipy import stats as st\n",
    "import phik\n",
    "import matplotlib.pyplot as plt\n",
    "import math as mth\n",
    "from plotly import graph_objects as go\n",
    "import plotly.express as px\n",
    "import plotly.io as pio\n",
    "pio.renderers.default=\"png\"\n",
    "import seaborn as sns\n",
    "sns.set(rc={'figure.figsize':(15,10)})"
   ]
  },
  {
   "cell_type": "code",
   "execution_count": 5,
   "id": "008b4d74",
   "metadata": {},
   "outputs": [],
   "source": [
    "#загрузила датафрейм\n",
    "try:\n",
    "    data = pd.read_csv('/datasets/bank_dataset.csv')\n",
    "except:\n",
    "    data = pd.read_csv(r\"C:\\scripts\\bank_dataset.csv\")"
   ]
  },
  {
   "cell_type": "code",
   "execution_count": 6,
   "id": "850d9554",
   "metadata": {},
   "outputs": [
    {
     "data": {
      "text/html": [
       "<div>\n",
       "<style scoped>\n",
       "    .dataframe tbody tr th:only-of-type {\n",
       "        vertical-align: middle;\n",
       "    }\n",
       "\n",
       "    .dataframe tbody tr th {\n",
       "        vertical-align: top;\n",
       "    }\n",
       "\n",
       "    .dataframe thead th {\n",
       "        text-align: right;\n",
       "    }\n",
       "</style>\n",
       "<table border=\"1\" class=\"dataframe\">\n",
       "  <thead>\n",
       "    <tr style=\"text-align: right;\">\n",
       "      <th></th>\n",
       "      <th>userid</th>\n",
       "      <th>score</th>\n",
       "      <th>City</th>\n",
       "      <th>Gender</th>\n",
       "      <th>Age</th>\n",
       "      <th>Objects</th>\n",
       "      <th>Balance</th>\n",
       "      <th>Products</th>\n",
       "      <th>CreditCard</th>\n",
       "      <th>Loyalty</th>\n",
       "      <th>estimated_salary</th>\n",
       "      <th>Churn</th>\n",
       "    </tr>\n",
       "  </thead>\n",
       "  <tbody>\n",
       "    <tr>\n",
       "      <th>0</th>\n",
       "      <td>15677338</td>\n",
       "      <td>619</td>\n",
       "      <td>Ярославль</td>\n",
       "      <td>Ж</td>\n",
       "      <td>42</td>\n",
       "      <td>2</td>\n",
       "      <td>NaN</td>\n",
       "      <td>1</td>\n",
       "      <td>1</td>\n",
       "      <td>1</td>\n",
       "      <td>101348.88</td>\n",
       "      <td>1</td>\n",
       "    </tr>\n",
       "    <tr>\n",
       "      <th>1</th>\n",
       "      <td>15690047</td>\n",
       "      <td>608</td>\n",
       "      <td>Рыбинск</td>\n",
       "      <td>Ж</td>\n",
       "      <td>41</td>\n",
       "      <td>1</td>\n",
       "      <td>83807.86</td>\n",
       "      <td>1</td>\n",
       "      <td>0</td>\n",
       "      <td>1</td>\n",
       "      <td>112542.58</td>\n",
       "      <td>0</td>\n",
       "    </tr>\n",
       "    <tr>\n",
       "      <th>2</th>\n",
       "      <td>15662040</td>\n",
       "      <td>502</td>\n",
       "      <td>Ярославль</td>\n",
       "      <td>Ж</td>\n",
       "      <td>42</td>\n",
       "      <td>8</td>\n",
       "      <td>159660.80</td>\n",
       "      <td>3</td>\n",
       "      <td>1</td>\n",
       "      <td>0</td>\n",
       "      <td>113931.57</td>\n",
       "      <td>1</td>\n",
       "    </tr>\n",
       "    <tr>\n",
       "      <th>3</th>\n",
       "      <td>15744090</td>\n",
       "      <td>699</td>\n",
       "      <td>Ярославль</td>\n",
       "      <td>Ж</td>\n",
       "      <td>39</td>\n",
       "      <td>1</td>\n",
       "      <td>NaN</td>\n",
       "      <td>2</td>\n",
       "      <td>0</td>\n",
       "      <td>0</td>\n",
       "      <td>93826.63</td>\n",
       "      <td>0</td>\n",
       "    </tr>\n",
       "    <tr>\n",
       "      <th>4</th>\n",
       "      <td>15780624</td>\n",
       "      <td>850</td>\n",
       "      <td>Рыбинск</td>\n",
       "      <td>Ж</td>\n",
       "      <td>43</td>\n",
       "      <td>2</td>\n",
       "      <td>125510.82</td>\n",
       "      <td>1</td>\n",
       "      <td>1</td>\n",
       "      <td>1</td>\n",
       "      <td>79084.10</td>\n",
       "      <td>0</td>\n",
       "    </tr>\n",
       "    <tr>\n",
       "      <th>5</th>\n",
       "      <td>15616748</td>\n",
       "      <td>645</td>\n",
       "      <td>Рыбинск</td>\n",
       "      <td>М</td>\n",
       "      <td>44</td>\n",
       "      <td>8</td>\n",
       "      <td>113755.78</td>\n",
       "      <td>2</td>\n",
       "      <td>1</td>\n",
       "      <td>0</td>\n",
       "      <td>149756.71</td>\n",
       "      <td>1</td>\n",
       "    </tr>\n",
       "    <tr>\n",
       "      <th>6</th>\n",
       "      <td>15635267</td>\n",
       "      <td>822</td>\n",
       "      <td>Ярославль</td>\n",
       "      <td>М</td>\n",
       "      <td>50</td>\n",
       "      <td>7</td>\n",
       "      <td>NaN</td>\n",
       "      <td>2</td>\n",
       "      <td>1</td>\n",
       "      <td>1</td>\n",
       "      <td>10062.80</td>\n",
       "      <td>0</td>\n",
       "    </tr>\n",
       "    <tr>\n",
       "      <th>7</th>\n",
       "      <td>15698884</td>\n",
       "      <td>376</td>\n",
       "      <td>Ростов Великий</td>\n",
       "      <td>Ж</td>\n",
       "      <td>29</td>\n",
       "      <td>4</td>\n",
       "      <td>115046.74</td>\n",
       "      <td>4</td>\n",
       "      <td>1</td>\n",
       "      <td>0</td>\n",
       "      <td>119346.88</td>\n",
       "      <td>1</td>\n",
       "    </tr>\n",
       "    <tr>\n",
       "      <th>8</th>\n",
       "      <td>15835101</td>\n",
       "      <td>501</td>\n",
       "      <td>Ярославль</td>\n",
       "      <td>М</td>\n",
       "      <td>44</td>\n",
       "      <td>4</td>\n",
       "      <td>142051.07</td>\n",
       "      <td>2</td>\n",
       "      <td>0</td>\n",
       "      <td>1</td>\n",
       "      <td>74940.50</td>\n",
       "      <td>0</td>\n",
       "    </tr>\n",
       "    <tr>\n",
       "      <th>9</th>\n",
       "      <td>15635125</td>\n",
       "      <td>684</td>\n",
       "      <td>Ярославль</td>\n",
       "      <td>М</td>\n",
       "      <td>27</td>\n",
       "      <td>2</td>\n",
       "      <td>134603.88</td>\n",
       "      <td>1</td>\n",
       "      <td>1</td>\n",
       "      <td>1</td>\n",
       "      <td>71725.73</td>\n",
       "      <td>0</td>\n",
       "    </tr>\n",
       "    <tr>\n",
       "      <th>10</th>\n",
       "      <td>15810557</td>\n",
       "      <td>528</td>\n",
       "      <td>Ярославль</td>\n",
       "      <td>М</td>\n",
       "      <td>31</td>\n",
       "      <td>6</td>\n",
       "      <td>102016.72</td>\n",
       "      <td>2</td>\n",
       "      <td>0</td>\n",
       "      <td>0</td>\n",
       "      <td>80181.12</td>\n",
       "      <td>0</td>\n",
       "    </tr>\n",
       "    <tr>\n",
       "      <th>11</th>\n",
       "      <td>15779909</td>\n",
       "      <td>497</td>\n",
       "      <td>Рыбинск</td>\n",
       "      <td>М</td>\n",
       "      <td>24</td>\n",
       "      <td>3</td>\n",
       "      <td>NaN</td>\n",
       "      <td>2</td>\n",
       "      <td>1</td>\n",
       "      <td>0</td>\n",
       "      <td>76390.01</td>\n",
       "      <td>0</td>\n",
       "    </tr>\n",
       "    <tr>\n",
       "      <th>12</th>\n",
       "      <td>15675000</td>\n",
       "      <td>476</td>\n",
       "      <td>Ярославль</td>\n",
       "      <td>Ж</td>\n",
       "      <td>34</td>\n",
       "      <td>10</td>\n",
       "      <td>NaN</td>\n",
       "      <td>2</td>\n",
       "      <td>1</td>\n",
       "      <td>0</td>\n",
       "      <td>26260.98</td>\n",
       "      <td>0</td>\n",
       "    </tr>\n",
       "    <tr>\n",
       "      <th>13</th>\n",
       "      <td>15734219</td>\n",
       "      <td>549</td>\n",
       "      <td>Ярославль</td>\n",
       "      <td>Ж</td>\n",
       "      <td>25</td>\n",
       "      <td>5</td>\n",
       "      <td>NaN</td>\n",
       "      <td>2</td>\n",
       "      <td>0</td>\n",
       "      <td>0</td>\n",
       "      <td>190857.79</td>\n",
       "      <td>0</td>\n",
       "    </tr>\n",
       "    <tr>\n",
       "      <th>14</th>\n",
       "      <td>15643618</td>\n",
       "      <td>635</td>\n",
       "      <td>Рыбинск</td>\n",
       "      <td>Ж</td>\n",
       "      <td>35</td>\n",
       "      <td>7</td>\n",
       "      <td>NaN</td>\n",
       "      <td>2</td>\n",
       "      <td>1</td>\n",
       "      <td>1</td>\n",
       "      <td>65951.65</td>\n",
       "      <td>0</td>\n",
       "    </tr>\n",
       "    <tr>\n",
       "      <th>15</th>\n",
       "      <td>15686702</td>\n",
       "      <td>616</td>\n",
       "      <td>Ростов Великий</td>\n",
       "      <td>М</td>\n",
       "      <td>45</td>\n",
       "      <td>3</td>\n",
       "      <td>143129.41</td>\n",
       "      <td>2</td>\n",
       "      <td>0</td>\n",
       "      <td>1</td>\n",
       "      <td>64327.26</td>\n",
       "      <td>0</td>\n",
       "    </tr>\n",
       "    <tr>\n",
       "      <th>16</th>\n",
       "      <td>15780188</td>\n",
       "      <td>653</td>\n",
       "      <td>Ростов Великий</td>\n",
       "      <td>М</td>\n",
       "      <td>58</td>\n",
       "      <td>1</td>\n",
       "      <td>132602.88</td>\n",
       "      <td>1</td>\n",
       "      <td>1</td>\n",
       "      <td>0</td>\n",
       "      <td>5097.67</td>\n",
       "      <td>1</td>\n",
       "    </tr>\n",
       "    <tr>\n",
       "      <th>17</th>\n",
       "      <td>15830954</td>\n",
       "      <td>549</td>\n",
       "      <td>Рыбинск</td>\n",
       "      <td>Ж</td>\n",
       "      <td>24</td>\n",
       "      <td>9</td>\n",
       "      <td>NaN</td>\n",
       "      <td>2</td>\n",
       "      <td>1</td>\n",
       "      <td>1</td>\n",
       "      <td>14406.41</td>\n",
       "      <td>0</td>\n",
       "    </tr>\n",
       "    <tr>\n",
       "      <th>18</th>\n",
       "      <td>15704243</td>\n",
       "      <td>587</td>\n",
       "      <td>Рыбинск</td>\n",
       "      <td>М</td>\n",
       "      <td>45</td>\n",
       "      <td>6</td>\n",
       "      <td>NaN</td>\n",
       "      <td>1</td>\n",
       "      <td>0</td>\n",
       "      <td>0</td>\n",
       "      <td>158684.81</td>\n",
       "      <td>0</td>\n",
       "    </tr>\n",
       "    <tr>\n",
       "      <th>19</th>\n",
       "      <td>15611718</td>\n",
       "      <td>726</td>\n",
       "      <td>Ярославль</td>\n",
       "      <td>Ж</td>\n",
       "      <td>24</td>\n",
       "      <td>6</td>\n",
       "      <td>NaN</td>\n",
       "      <td>2</td>\n",
       "      <td>1</td>\n",
       "      <td>1</td>\n",
       "      <td>54724.03</td>\n",
       "      <td>0</td>\n",
       "    </tr>\n",
       "  </tbody>\n",
       "</table>\n",
       "</div>"
      ],
      "text/plain": [
       "      userid  score            City Gender  Age  Objects    Balance  Products  \\\n",
       "0   15677338    619       Ярославль      Ж   42        2        NaN         1   \n",
       "1   15690047    608         Рыбинск      Ж   41        1   83807.86         1   \n",
       "2   15662040    502       Ярославль      Ж   42        8  159660.80         3   \n",
       "3   15744090    699       Ярославль      Ж   39        1        NaN         2   \n",
       "4   15780624    850         Рыбинск      Ж   43        2  125510.82         1   \n",
       "5   15616748    645         Рыбинск      М   44        8  113755.78         2   \n",
       "6   15635267    822       Ярославль      М   50        7        NaN         2   \n",
       "7   15698884    376  Ростов Великий      Ж   29        4  115046.74         4   \n",
       "8   15835101    501       Ярославль      М   44        4  142051.07         2   \n",
       "9   15635125    684       Ярославль      М   27        2  134603.88         1   \n",
       "10  15810557    528       Ярославль      М   31        6  102016.72         2   \n",
       "11  15779909    497         Рыбинск      М   24        3        NaN         2   \n",
       "12  15675000    476       Ярославль      Ж   34       10        NaN         2   \n",
       "13  15734219    549       Ярославль      Ж   25        5        NaN         2   \n",
       "14  15643618    635         Рыбинск      Ж   35        7        NaN         2   \n",
       "15  15686702    616  Ростов Великий      М   45        3  143129.41         2   \n",
       "16  15780188    653  Ростов Великий      М   58        1  132602.88         1   \n",
       "17  15830954    549         Рыбинск      Ж   24        9        NaN         2   \n",
       "18  15704243    587         Рыбинск      М   45        6        NaN         1   \n",
       "19  15611718    726       Ярославль      Ж   24        6        NaN         2   \n",
       "\n",
       "    CreditCard  Loyalty  estimated_salary  Churn  \n",
       "0            1        1         101348.88      1  \n",
       "1            0        1         112542.58      0  \n",
       "2            1        0         113931.57      1  \n",
       "3            0        0          93826.63      0  \n",
       "4            1        1          79084.10      0  \n",
       "5            1        0         149756.71      1  \n",
       "6            1        1          10062.80      0  \n",
       "7            1        0         119346.88      1  \n",
       "8            0        1          74940.50      0  \n",
       "9            1        1          71725.73      0  \n",
       "10           0        0          80181.12      0  \n",
       "11           1        0          76390.01      0  \n",
       "12           1        0          26260.98      0  \n",
       "13           0        0         190857.79      0  \n",
       "14           1        1          65951.65      0  \n",
       "15           0        1          64327.26      0  \n",
       "16           1        0           5097.67      1  \n",
       "17           1        1          14406.41      0  \n",
       "18           0        0         158684.81      0  \n",
       "19           1        1          54724.03      0  "
      ]
     },
     "execution_count": 6,
     "metadata": {},
     "output_type": "execute_result"
    }
   ],
   "source": [
    "#посмотрела 20 первых строк\n",
    "data.head(20)"
   ]
  },
  {
   "cell_type": "markdown",
   "id": "49e175ad",
   "metadata": {},
   "source": [
    "## Предобработка данных"
   ]
  },
  {
   "cell_type": "code",
   "execution_count": 7,
   "id": "4526af30",
   "metadata": {},
   "outputs": [
    {
     "name": "stdout",
     "output_type": "stream",
     "text": [
      "<class 'pandas.core.frame.DataFrame'>\n",
      "RangeIndex: 10000 entries, 0 to 9999\n",
      "Data columns (total 12 columns):\n",
      " #   Column            Non-Null Count  Dtype  \n",
      "---  ------            --------------  -----  \n",
      " 0   userid            10000 non-null  int64  \n",
      " 1   score             10000 non-null  int64  \n",
      " 2   City              10000 non-null  object \n",
      " 3   Gender            10000 non-null  object \n",
      " 4   Age               10000 non-null  int64  \n",
      " 5   Objects           10000 non-null  int64  \n",
      " 6   Balance           6383 non-null   float64\n",
      " 7   Products          10000 non-null  int64  \n",
      " 8   CreditCard        10000 non-null  int64  \n",
      " 9   Loyalty           10000 non-null  int64  \n",
      " 10  estimated_salary  10000 non-null  float64\n",
      " 11  Churn             10000 non-null  int64  \n",
      "dtypes: float64(2), int64(8), object(2)\n",
      "memory usage: 937.6+ KB\n"
     ]
    }
   ],
   "source": [
    "#посмотрела информацию по колонкам\n",
    "data.info()"
   ]
  },
  {
   "cell_type": "code",
   "execution_count": 8,
   "id": "c5e01d1c",
   "metadata": {},
   "outputs": [
    {
     "data": {
      "text/plain": [
       "userid                 0\n",
       "score                  0\n",
       "City                   0\n",
       "Gender                 0\n",
       "Age                    0\n",
       "Objects                0\n",
       "Balance             3617\n",
       "Products               0\n",
       "CreditCard             0\n",
       "Loyalty                0\n",
       "estimated_salary       0\n",
       "Churn                  0\n",
       "dtype: int64"
      ]
     },
     "execution_count": 8,
     "metadata": {},
     "output_type": "execute_result"
    }
   ],
   "source": [
    "#проверила на пропуски\n",
    "data.isna().sum()"
   ]
  },
  {
   "cell_type": "code",
   "execution_count": 9,
   "id": "0d788e64",
   "metadata": {},
   "outputs": [
    {
     "name": "stdout",
     "output_type": "stream",
     "text": [
      "Кол-во пропусков в столбце balance - 3617 , 36.17 %\n"
     ]
    }
   ],
   "source": [
    "print ('Кол-во пропусков в столбце balance -', data['Balance'].isna().sum(), ',', round(data['Balance'].isna().sum()/data['userid'].count()*100, 2), '%')"
   ]
  },
  {
   "cell_type": "markdown",
   "id": "18182d50",
   "metadata": {},
   "source": [
    "Пропуски только в поле balance (баланс на счете). В количестве 3617 шт, потеря данных составляет - 36%.\n",
    "Пропуски заполнять не будем, так как нет цели построить модель и при работе с данными пустые значения мешать не будут. При этом планирую при построении графиков учитывать данный столбец, заполнение пропусков может исказить результаты/выводы и нагрузить код. Скорей всего пропуски связаны с нулевыми значениями на балансе и наличием только кредитных продуктов (итак должны банку), не исключаю и сбои в момент загрузки из соответствующей таблицы"
   ]
  },
  {
   "cell_type": "code",
   "execution_count": 10,
   "id": "f2487435",
   "metadata": {},
   "outputs": [],
   "source": [
    "#постаралась определить причины пропусков\n",
    "def summary(x):\n",
    "    result = {\n",
    "        'count_nan': x['Balance'].isna().sum(),\n",
    "    }\n",
    "    return pd.Series(result)"
   ]
  },
  {
   "cell_type": "code",
   "execution_count": 11,
   "id": "74a4d95f",
   "metadata": {},
   "outputs": [
    {
     "data": {
      "text/html": [
       "<div>\n",
       "<style scoped>\n",
       "    .dataframe tbody tr th:only-of-type {\n",
       "        vertical-align: middle;\n",
       "    }\n",
       "\n",
       "    .dataframe tbody tr th {\n",
       "        vertical-align: top;\n",
       "    }\n",
       "\n",
       "    .dataframe thead th {\n",
       "        text-align: right;\n",
       "    }\n",
       "</style>\n",
       "<table border=\"1\" class=\"dataframe\">\n",
       "  <thead>\n",
       "    <tr style=\"text-align: right;\">\n",
       "      <th></th>\n",
       "      <th>count_nan</th>\n",
       "    </tr>\n",
       "    <tr>\n",
       "      <th>City</th>\n",
       "      <th></th>\n",
       "    </tr>\n",
       "  </thead>\n",
       "  <tbody>\n",
       "    <tr>\n",
       "      <th>Ростов Великий</th>\n",
       "      <td>0</td>\n",
       "    </tr>\n",
       "    <tr>\n",
       "      <th>Рыбинск</th>\n",
       "      <td>1199</td>\n",
       "    </tr>\n",
       "    <tr>\n",
       "      <th>Ярославль</th>\n",
       "      <td>2418</td>\n",
       "    </tr>\n",
       "  </tbody>\n",
       "</table>\n",
       "</div>"
      ],
      "text/plain": [
       "                count_nan\n",
       "City                     \n",
       "Ростов Великий          0\n",
       "Рыбинск              1199\n",
       "Ярославль            2418"
      ]
     },
     "execution_count": 11,
     "metadata": {},
     "output_type": "execute_result"
    }
   ],
   "source": [
    "data.groupby(['City']).apply(summary)"
   ]
  },
  {
   "cell_type": "code",
   "execution_count": 12,
   "id": "66399949",
   "metadata": {},
   "outputs": [
    {
     "data": {
      "text/html": [
       "<div>\n",
       "<style scoped>\n",
       "    .dataframe tbody tr th:only-of-type {\n",
       "        vertical-align: middle;\n",
       "    }\n",
       "\n",
       "    .dataframe tbody tr th {\n",
       "        vertical-align: top;\n",
       "    }\n",
       "\n",
       "    .dataframe thead th {\n",
       "        text-align: right;\n",
       "    }\n",
       "</style>\n",
       "<table border=\"1\" class=\"dataframe\">\n",
       "  <thead>\n",
       "    <tr style=\"text-align: right;\">\n",
       "      <th></th>\n",
       "      <th>count_nan</th>\n",
       "    </tr>\n",
       "    <tr>\n",
       "      <th>Gender</th>\n",
       "      <th></th>\n",
       "    </tr>\n",
       "  </thead>\n",
       "  <tbody>\n",
       "    <tr>\n",
       "      <th>Ж</th>\n",
       "      <td>1654</td>\n",
       "    </tr>\n",
       "    <tr>\n",
       "      <th>М</th>\n",
       "      <td>1963</td>\n",
       "    </tr>\n",
       "  </tbody>\n",
       "</table>\n",
       "</div>"
      ],
      "text/plain": [
       "        count_nan\n",
       "Gender           \n",
       "Ж            1654\n",
       "М            1963"
      ]
     },
     "execution_count": 12,
     "metadata": {},
     "output_type": "execute_result"
    }
   ],
   "source": [
    "data.groupby(['Gender']).apply(summary)"
   ]
  },
  {
   "cell_type": "code",
   "execution_count": 13,
   "id": "8edaf3ce",
   "metadata": {},
   "outputs": [
    {
     "data": {
      "text/html": [
       "<div>\n",
       "<style scoped>\n",
       "    .dataframe tbody tr th:only-of-type {\n",
       "        vertical-align: middle;\n",
       "    }\n",
       "\n",
       "    .dataframe tbody tr th {\n",
       "        vertical-align: top;\n",
       "    }\n",
       "\n",
       "    .dataframe thead th {\n",
       "        text-align: right;\n",
       "    }\n",
       "</style>\n",
       "<table border=\"1\" class=\"dataframe\">\n",
       "  <thead>\n",
       "    <tr style=\"text-align: right;\">\n",
       "      <th></th>\n",
       "      <th>count_nan</th>\n",
       "    </tr>\n",
       "    <tr>\n",
       "      <th>Churn</th>\n",
       "      <th></th>\n",
       "    </tr>\n",
       "  </thead>\n",
       "  <tbody>\n",
       "    <tr>\n",
       "      <th>0</th>\n",
       "      <td>3117</td>\n",
       "    </tr>\n",
       "    <tr>\n",
       "      <th>1</th>\n",
       "      <td>500</td>\n",
       "    </tr>\n",
       "  </tbody>\n",
       "</table>\n",
       "</div>"
      ],
      "text/plain": [
       "       count_nan\n",
       "Churn           \n",
       "0           3117\n",
       "1            500"
      ]
     },
     "execution_count": 13,
     "metadata": {},
     "output_type": "execute_result"
    }
   ],
   "source": [
    "data.groupby(['Churn']).apply(summary)"
   ]
  },
  {
   "cell_type": "code",
   "execution_count": 14,
   "id": "67cc3790",
   "metadata": {},
   "outputs": [
    {
     "name": "stdout",
     "output_type": "stream",
     "text": [
      "Кол-во дубликатов - 0\n"
     ]
    }
   ],
   "source": [
    "#проверила на дубликаты\n",
    "print ('Кол-во дубликатов -', data.duplicated().sum())"
   ]
  },
  {
   "cell_type": "markdown",
   "id": "5464cd62",
   "metadata": {},
   "source": [
    "Дубликаты отсутствуют"
   ]
  },
  {
   "cell_type": "code",
   "execution_count": 15,
   "id": "507c80f5",
   "metadata": {},
   "outputs": [
    {
     "data": {
      "text/html": [
       "<div>\n",
       "<style scoped>\n",
       "    .dataframe tbody tr th:only-of-type {\n",
       "        vertical-align: middle;\n",
       "    }\n",
       "\n",
       "    .dataframe tbody tr th {\n",
       "        vertical-align: top;\n",
       "    }\n",
       "\n",
       "    .dataframe thead th {\n",
       "        text-align: right;\n",
       "    }\n",
       "</style>\n",
       "<table border=\"1\" class=\"dataframe\">\n",
       "  <thead>\n",
       "    <tr style=\"text-align: right;\">\n",
       "      <th></th>\n",
       "      <th>userid</th>\n",
       "      <th>score</th>\n",
       "      <th>city</th>\n",
       "      <th>gender</th>\n",
       "      <th>age</th>\n",
       "      <th>objects</th>\n",
       "      <th>balance</th>\n",
       "      <th>products</th>\n",
       "      <th>creditcard</th>\n",
       "      <th>loyalty</th>\n",
       "      <th>estimated_salary</th>\n",
       "      <th>churn</th>\n",
       "    </tr>\n",
       "  </thead>\n",
       "  <tbody>\n",
       "    <tr>\n",
       "      <th>0</th>\n",
       "      <td>15677338</td>\n",
       "      <td>619</td>\n",
       "      <td>Ярославль</td>\n",
       "      <td>Ж</td>\n",
       "      <td>42</td>\n",
       "      <td>2</td>\n",
       "      <td>NaN</td>\n",
       "      <td>1</td>\n",
       "      <td>1</td>\n",
       "      <td>1</td>\n",
       "      <td>101348.88</td>\n",
       "      <td>1</td>\n",
       "    </tr>\n",
       "    <tr>\n",
       "      <th>1</th>\n",
       "      <td>15690047</td>\n",
       "      <td>608</td>\n",
       "      <td>Рыбинск</td>\n",
       "      <td>Ж</td>\n",
       "      <td>41</td>\n",
       "      <td>1</td>\n",
       "      <td>83807.86</td>\n",
       "      <td>1</td>\n",
       "      <td>0</td>\n",
       "      <td>1</td>\n",
       "      <td>112542.58</td>\n",
       "      <td>0</td>\n",
       "    </tr>\n",
       "    <tr>\n",
       "      <th>2</th>\n",
       "      <td>15662040</td>\n",
       "      <td>502</td>\n",
       "      <td>Ярославль</td>\n",
       "      <td>Ж</td>\n",
       "      <td>42</td>\n",
       "      <td>8</td>\n",
       "      <td>159660.80</td>\n",
       "      <td>3</td>\n",
       "      <td>1</td>\n",
       "      <td>0</td>\n",
       "      <td>113931.57</td>\n",
       "      <td>1</td>\n",
       "    </tr>\n",
       "    <tr>\n",
       "      <th>3</th>\n",
       "      <td>15744090</td>\n",
       "      <td>699</td>\n",
       "      <td>Ярославль</td>\n",
       "      <td>Ж</td>\n",
       "      <td>39</td>\n",
       "      <td>1</td>\n",
       "      <td>NaN</td>\n",
       "      <td>2</td>\n",
       "      <td>0</td>\n",
       "      <td>0</td>\n",
       "      <td>93826.63</td>\n",
       "      <td>0</td>\n",
       "    </tr>\n",
       "    <tr>\n",
       "      <th>4</th>\n",
       "      <td>15780624</td>\n",
       "      <td>850</td>\n",
       "      <td>Рыбинск</td>\n",
       "      <td>Ж</td>\n",
       "      <td>43</td>\n",
       "      <td>2</td>\n",
       "      <td>125510.82</td>\n",
       "      <td>1</td>\n",
       "      <td>1</td>\n",
       "      <td>1</td>\n",
       "      <td>79084.10</td>\n",
       "      <td>0</td>\n",
       "    </tr>\n",
       "  </tbody>\n",
       "</table>\n",
       "</div>"
      ],
      "text/plain": [
       "     userid  score       city gender  age  objects    balance  products  \\\n",
       "0  15677338    619  Ярославль      Ж   42        2        NaN         1   \n",
       "1  15690047    608    Рыбинск      Ж   41        1   83807.86         1   \n",
       "2  15662040    502  Ярославль      Ж   42        8  159660.80         3   \n",
       "3  15744090    699  Ярославль      Ж   39        1        NaN         2   \n",
       "4  15780624    850    Рыбинск      Ж   43        2  125510.82         1   \n",
       "\n",
       "   creditcard  loyalty  estimated_salary  churn  \n",
       "0           1        1         101348.88      1  \n",
       "1           0        1         112542.58      0  \n",
       "2           1        0         113931.57      1  \n",
       "3           0        0          93826.63      0  \n",
       "4           1        1          79084.10      0  "
      ]
     },
     "execution_count": 15,
     "metadata": {},
     "output_type": "execute_result"
    }
   ],
   "source": [
    "#привела столбцы к нижнему регистру\n",
    "data.columns = data.columns.str.lower()\n",
    "data.head()"
   ]
  },
  {
   "cell_type": "markdown",
   "id": "2c1e3bf5",
   "metadata": {},
   "source": [
    "Привела все столбцы к нижнему регистру для удобства работы и аккуратности визуала/кода"
   ]
  },
  {
   "cell_type": "code",
   "execution_count": 16,
   "id": "cc65f9d0",
   "metadata": {},
   "outputs": [
    {
     "data": {
      "text/html": [
       "<div>\n",
       "<style scoped>\n",
       "    .dataframe tbody tr th:only-of-type {\n",
       "        vertical-align: middle;\n",
       "    }\n",
       "\n",
       "    .dataframe tbody tr th {\n",
       "        vertical-align: top;\n",
       "    }\n",
       "\n",
       "    .dataframe thead th {\n",
       "        text-align: right;\n",
       "    }\n",
       "</style>\n",
       "<table border=\"1\" class=\"dataframe\">\n",
       "  <thead>\n",
       "    <tr style=\"text-align: right;\">\n",
       "      <th></th>\n",
       "      <th>userid</th>\n",
       "      <th>score</th>\n",
       "      <th>age</th>\n",
       "      <th>objects</th>\n",
       "      <th>balance</th>\n",
       "      <th>products</th>\n",
       "      <th>creditcard</th>\n",
       "      <th>loyalty</th>\n",
       "      <th>estimated_salary</th>\n",
       "      <th>churn</th>\n",
       "    </tr>\n",
       "  </thead>\n",
       "  <tbody>\n",
       "    <tr>\n",
       "      <th>count</th>\n",
       "      <td>1.000000e+04</td>\n",
       "      <td>10000.000000</td>\n",
       "      <td>10000.000000</td>\n",
       "      <td>10000.000000</td>\n",
       "      <td>6383.000000</td>\n",
       "      <td>10000.000000</td>\n",
       "      <td>10000.00000</td>\n",
       "      <td>10000.000000</td>\n",
       "      <td>10000.000000</td>\n",
       "      <td>10000.000000</td>\n",
       "    </tr>\n",
       "    <tr>\n",
       "      <th>mean</th>\n",
       "      <td>1.573368e+07</td>\n",
       "      <td>650.528800</td>\n",
       "      <td>38.921800</td>\n",
       "      <td>5.012800</td>\n",
       "      <td>119827.493793</td>\n",
       "      <td>1.530200</td>\n",
       "      <td>0.70550</td>\n",
       "      <td>0.515100</td>\n",
       "      <td>100090.239881</td>\n",
       "      <td>0.203700</td>\n",
       "    </tr>\n",
       "    <tr>\n",
       "      <th>std</th>\n",
       "      <td>7.193619e+04</td>\n",
       "      <td>96.653299</td>\n",
       "      <td>10.487806</td>\n",
       "      <td>2.892174</td>\n",
       "      <td>30095.056462</td>\n",
       "      <td>0.581654</td>\n",
       "      <td>0.45584</td>\n",
       "      <td>0.499797</td>\n",
       "      <td>57510.492818</td>\n",
       "      <td>0.402769</td>\n",
       "    </tr>\n",
       "    <tr>\n",
       "      <th>min</th>\n",
       "      <td>1.560844e+07</td>\n",
       "      <td>350.000000</td>\n",
       "      <td>18.000000</td>\n",
       "      <td>0.000000</td>\n",
       "      <td>3768.690000</td>\n",
       "      <td>1.000000</td>\n",
       "      <td>0.00000</td>\n",
       "      <td>0.000000</td>\n",
       "      <td>11.580000</td>\n",
       "      <td>0.000000</td>\n",
       "    </tr>\n",
       "    <tr>\n",
       "      <th>25%</th>\n",
       "      <td>1.567126e+07</td>\n",
       "      <td>584.000000</td>\n",
       "      <td>32.000000</td>\n",
       "      <td>3.000000</td>\n",
       "      <td>100181.975000</td>\n",
       "      <td>1.000000</td>\n",
       "      <td>0.00000</td>\n",
       "      <td>0.000000</td>\n",
       "      <td>51002.110000</td>\n",
       "      <td>0.000000</td>\n",
       "    </tr>\n",
       "    <tr>\n",
       "      <th>50%</th>\n",
       "      <td>1.573347e+07</td>\n",
       "      <td>652.000000</td>\n",
       "      <td>37.000000</td>\n",
       "      <td>5.000000</td>\n",
       "      <td>119839.690000</td>\n",
       "      <td>1.000000</td>\n",
       "      <td>1.00000</td>\n",
       "      <td>1.000000</td>\n",
       "      <td>100193.915000</td>\n",
       "      <td>0.000000</td>\n",
       "    </tr>\n",
       "    <tr>\n",
       "      <th>75%</th>\n",
       "      <td>1.579597e+07</td>\n",
       "      <td>718.000000</td>\n",
       "      <td>44.000000</td>\n",
       "      <td>7.000000</td>\n",
       "      <td>139512.290000</td>\n",
       "      <td>2.000000</td>\n",
       "      <td>1.00000</td>\n",
       "      <td>1.000000</td>\n",
       "      <td>149388.247500</td>\n",
       "      <td>0.000000</td>\n",
       "    </tr>\n",
       "    <tr>\n",
       "      <th>max</th>\n",
       "      <td>1.585843e+07</td>\n",
       "      <td>850.000000</td>\n",
       "      <td>92.000000</td>\n",
       "      <td>10.000000</td>\n",
       "      <td>250898.090000</td>\n",
       "      <td>4.000000</td>\n",
       "      <td>1.00000</td>\n",
       "      <td>1.000000</td>\n",
       "      <td>199992.480000</td>\n",
       "      <td>1.000000</td>\n",
       "    </tr>\n",
       "  </tbody>\n",
       "</table>\n",
       "</div>"
      ],
      "text/plain": [
       "             userid         score           age       objects        balance  \\\n",
       "count  1.000000e+04  10000.000000  10000.000000  10000.000000    6383.000000   \n",
       "mean   1.573368e+07    650.528800     38.921800      5.012800  119827.493793   \n",
       "std    7.193619e+04     96.653299     10.487806      2.892174   30095.056462   \n",
       "min    1.560844e+07    350.000000     18.000000      0.000000    3768.690000   \n",
       "25%    1.567126e+07    584.000000     32.000000      3.000000  100181.975000   \n",
       "50%    1.573347e+07    652.000000     37.000000      5.000000  119839.690000   \n",
       "75%    1.579597e+07    718.000000     44.000000      7.000000  139512.290000   \n",
       "max    1.585843e+07    850.000000     92.000000     10.000000  250898.090000   \n",
       "\n",
       "           products   creditcard       loyalty  estimated_salary         churn  \n",
       "count  10000.000000  10000.00000  10000.000000      10000.000000  10000.000000  \n",
       "mean       1.530200      0.70550      0.515100     100090.239881      0.203700  \n",
       "std        0.581654      0.45584      0.499797      57510.492818      0.402769  \n",
       "min        1.000000      0.00000      0.000000         11.580000      0.000000  \n",
       "25%        1.000000      0.00000      0.000000      51002.110000      0.000000  \n",
       "50%        1.000000      1.00000      1.000000     100193.915000      0.000000  \n",
       "75%        2.000000      1.00000      1.000000     149388.247500      0.000000  \n",
       "max        4.000000      1.00000      1.000000     199992.480000      1.000000  "
      ]
     },
     "execution_count": 16,
     "metadata": {},
     "output_type": "execute_result"
    }
   ],
   "source": [
    "#проверила на аномальные/отрицательные значения\n",
    "data.describe()"
   ]
  },
  {
   "cell_type": "markdown",
   "id": "808b3a93",
   "metadata": {},
   "source": [
    "Аномальные/отрицательные значения отсутствуют"
   ]
  },
  {
   "cell_type": "code",
   "execution_count": 17,
   "id": "d9f725d8",
   "metadata": {},
   "outputs": [
    {
     "data": {
      "text/html": [
       "<div>\n",
       "<style scoped>\n",
       "    .dataframe tbody tr th:only-of-type {\n",
       "        vertical-align: middle;\n",
       "    }\n",
       "\n",
       "    .dataframe tbody tr th {\n",
       "        vertical-align: top;\n",
       "    }\n",
       "\n",
       "    .dataframe thead th {\n",
       "        text-align: right;\n",
       "    }\n",
       "</style>\n",
       "<table border=\"1\" class=\"dataframe\">\n",
       "  <thead>\n",
       "    <tr style=\"text-align: right;\">\n",
       "      <th></th>\n",
       "      <th>userid</th>\n",
       "      <th>score</th>\n",
       "      <th>city</th>\n",
       "      <th>gender</th>\n",
       "      <th>age</th>\n",
       "      <th>objects</th>\n",
       "      <th>balance</th>\n",
       "      <th>categorу_client_balance</th>\n",
       "      <th>products</th>\n",
       "      <th>creditcard</th>\n",
       "      <th>loyalty</th>\n",
       "      <th>estimated_salary</th>\n",
       "      <th>churn</th>\n",
       "    </tr>\n",
       "  </thead>\n",
       "  <tbody>\n",
       "    <tr>\n",
       "      <th>0</th>\n",
       "      <td>15677338</td>\n",
       "      <td>619</td>\n",
       "      <td>Ярославль</td>\n",
       "      <td>Ж</td>\n",
       "      <td>42</td>\n",
       "      <td>2</td>\n",
       "      <td>NaN</td>\n",
       "      <td>None</td>\n",
       "      <td>1</td>\n",
       "      <td>1</td>\n",
       "      <td>1</td>\n",
       "      <td>101348.88</td>\n",
       "      <td>1</td>\n",
       "    </tr>\n",
       "    <tr>\n",
       "      <th>1</th>\n",
       "      <td>15690047</td>\n",
       "      <td>608</td>\n",
       "      <td>Рыбинск</td>\n",
       "      <td>Ж</td>\n",
       "      <td>41</td>\n",
       "      <td>1</td>\n",
       "      <td>83807.86</td>\n",
       "      <td>macc</td>\n",
       "      <td>1</td>\n",
       "      <td>0</td>\n",
       "      <td>1</td>\n",
       "      <td>112542.58</td>\n",
       "      <td>0</td>\n",
       "    </tr>\n",
       "    <tr>\n",
       "      <th>2</th>\n",
       "      <td>15662040</td>\n",
       "      <td>502</td>\n",
       "      <td>Ярославль</td>\n",
       "      <td>Ж</td>\n",
       "      <td>42</td>\n",
       "      <td>8</td>\n",
       "      <td>159660.80</td>\n",
       "      <td>премиум</td>\n",
       "      <td>3</td>\n",
       "      <td>1</td>\n",
       "      <td>0</td>\n",
       "      <td>113931.57</td>\n",
       "      <td>1</td>\n",
       "    </tr>\n",
       "    <tr>\n",
       "      <th>3</th>\n",
       "      <td>15744090</td>\n",
       "      <td>699</td>\n",
       "      <td>Ярославль</td>\n",
       "      <td>Ж</td>\n",
       "      <td>39</td>\n",
       "      <td>1</td>\n",
       "      <td>NaN</td>\n",
       "      <td>None</td>\n",
       "      <td>2</td>\n",
       "      <td>0</td>\n",
       "      <td>0</td>\n",
       "      <td>93826.63</td>\n",
       "      <td>0</td>\n",
       "    </tr>\n",
       "    <tr>\n",
       "      <th>4</th>\n",
       "      <td>15780624</td>\n",
       "      <td>850</td>\n",
       "      <td>Рыбинск</td>\n",
       "      <td>Ж</td>\n",
       "      <td>43</td>\n",
       "      <td>2</td>\n",
       "      <td>125510.82</td>\n",
       "      <td>macc</td>\n",
       "      <td>1</td>\n",
       "      <td>1</td>\n",
       "      <td>1</td>\n",
       "      <td>79084.10</td>\n",
       "      <td>0</td>\n",
       "    </tr>\n",
       "  </tbody>\n",
       "</table>\n",
       "</div>"
      ],
      "text/plain": [
       "     userid  score       city gender  age  objects    balance  \\\n",
       "0  15677338    619  Ярославль      Ж   42        2        NaN   \n",
       "1  15690047    608    Рыбинск      Ж   41        1   83807.86   \n",
       "2  15662040    502  Ярославль      Ж   42        8  159660.80   \n",
       "3  15744090    699  Ярославль      Ж   39        1        NaN   \n",
       "4  15780624    850    Рыбинск      Ж   43        2  125510.82   \n",
       "\n",
       "  categorу_client_balance  products  creditcard  loyalty  estimated_salary  \\\n",
       "0                    None         1           1        1         101348.88   \n",
       "1                    macc         1           0        1         112542.58   \n",
       "2                 премиум         3           1        0         113931.57   \n",
       "3                    None         2           0        0          93826.63   \n",
       "4                    macc         1           1        1          79084.10   \n",
       "\n",
       "   churn  \n",
       "0      1  \n",
       "1      0  \n",
       "2      1  \n",
       "3      0  \n",
       "4      0  "
      ]
     },
     "execution_count": 17,
     "metadata": {},
     "output_type": "execute_result"
    }
   ],
   "source": [
    "#добавила столбец для сегменации по балансам на счетах\n",
    "def categorize_balance(row):\n",
    "    try:\n",
    "        if 0 <= row <= 150000:\n",
    "            return 'macc'\n",
    "        elif 150001 <= row <= 200000:\n",
    "            return 'премиум'\n",
    "        elif row >= 200001:\n",
    "            return 'вип'\n",
    "    except:\n",
    "        return 'данные отсутствуют'\n",
    "\n",
    "data.insert(7, 'categorу_client_balance', data['balance'].apply(categorize_balance), True)\n",
    "data.head()"
   ]
  },
  {
   "cell_type": "code",
   "execution_count": 18,
   "id": "79b5f949",
   "metadata": {},
   "outputs": [
    {
     "data": {
      "text/html": [
       "<div>\n",
       "<style scoped>\n",
       "    .dataframe tbody tr th:only-of-type {\n",
       "        vertical-align: middle;\n",
       "    }\n",
       "\n",
       "    .dataframe tbody tr th {\n",
       "        vertical-align: top;\n",
       "    }\n",
       "\n",
       "    .dataframe thead th {\n",
       "        text-align: right;\n",
       "    }\n",
       "</style>\n",
       "<table border=\"1\" class=\"dataframe\">\n",
       "  <thead>\n",
       "    <tr style=\"text-align: right;\">\n",
       "      <th></th>\n",
       "      <th>userid</th>\n",
       "      <th>score</th>\n",
       "      <th>city</th>\n",
       "      <th>gender</th>\n",
       "      <th>age</th>\n",
       "      <th>categorу_client_age</th>\n",
       "      <th>objects</th>\n",
       "      <th>balance</th>\n",
       "      <th>categorу_client_balance</th>\n",
       "      <th>products</th>\n",
       "      <th>creditcard</th>\n",
       "      <th>loyalty</th>\n",
       "      <th>estimated_salary</th>\n",
       "      <th>churn</th>\n",
       "    </tr>\n",
       "  </thead>\n",
       "  <tbody>\n",
       "    <tr>\n",
       "      <th>0</th>\n",
       "      <td>15677338</td>\n",
       "      <td>619</td>\n",
       "      <td>Ярославль</td>\n",
       "      <td>Ж</td>\n",
       "      <td>42</td>\n",
       "      <td>36-45</td>\n",
       "      <td>2</td>\n",
       "      <td>NaN</td>\n",
       "      <td>None</td>\n",
       "      <td>1</td>\n",
       "      <td>1</td>\n",
       "      <td>1</td>\n",
       "      <td>101348.88</td>\n",
       "      <td>1</td>\n",
       "    </tr>\n",
       "    <tr>\n",
       "      <th>1</th>\n",
       "      <td>15690047</td>\n",
       "      <td>608</td>\n",
       "      <td>Рыбинск</td>\n",
       "      <td>Ж</td>\n",
       "      <td>41</td>\n",
       "      <td>36-45</td>\n",
       "      <td>1</td>\n",
       "      <td>83807.86</td>\n",
       "      <td>macc</td>\n",
       "      <td>1</td>\n",
       "      <td>0</td>\n",
       "      <td>1</td>\n",
       "      <td>112542.58</td>\n",
       "      <td>0</td>\n",
       "    </tr>\n",
       "    <tr>\n",
       "      <th>2</th>\n",
       "      <td>15662040</td>\n",
       "      <td>502</td>\n",
       "      <td>Ярославль</td>\n",
       "      <td>Ж</td>\n",
       "      <td>42</td>\n",
       "      <td>36-45</td>\n",
       "      <td>8</td>\n",
       "      <td>159660.80</td>\n",
       "      <td>премиум</td>\n",
       "      <td>3</td>\n",
       "      <td>1</td>\n",
       "      <td>0</td>\n",
       "      <td>113931.57</td>\n",
       "      <td>1</td>\n",
       "    </tr>\n",
       "    <tr>\n",
       "      <th>3</th>\n",
       "      <td>15744090</td>\n",
       "      <td>699</td>\n",
       "      <td>Ярославль</td>\n",
       "      <td>Ж</td>\n",
       "      <td>39</td>\n",
       "      <td>36-45</td>\n",
       "      <td>1</td>\n",
       "      <td>NaN</td>\n",
       "      <td>None</td>\n",
       "      <td>2</td>\n",
       "      <td>0</td>\n",
       "      <td>0</td>\n",
       "      <td>93826.63</td>\n",
       "      <td>0</td>\n",
       "    </tr>\n",
       "    <tr>\n",
       "      <th>4</th>\n",
       "      <td>15780624</td>\n",
       "      <td>850</td>\n",
       "      <td>Рыбинск</td>\n",
       "      <td>Ж</td>\n",
       "      <td>43</td>\n",
       "      <td>36-45</td>\n",
       "      <td>2</td>\n",
       "      <td>125510.82</td>\n",
       "      <td>macc</td>\n",
       "      <td>1</td>\n",
       "      <td>1</td>\n",
       "      <td>1</td>\n",
       "      <td>79084.10</td>\n",
       "      <td>0</td>\n",
       "    </tr>\n",
       "  </tbody>\n",
       "</table>\n",
       "</div>"
      ],
      "text/plain": [
       "     userid  score       city gender  age categorу_client_age  objects  \\\n",
       "0  15677338    619  Ярославль      Ж   42               36-45        2   \n",
       "1  15690047    608    Рыбинск      Ж   41               36-45        1   \n",
       "2  15662040    502  Ярославль      Ж   42               36-45        8   \n",
       "3  15744090    699  Ярославль      Ж   39               36-45        1   \n",
       "4  15780624    850    Рыбинск      Ж   43               36-45        2   \n",
       "\n",
       "     balance categorу_client_balance  products  creditcard  loyalty  \\\n",
       "0        NaN                    None         1           1        1   \n",
       "1   83807.86                    macc         1           0        1   \n",
       "2  159660.80                 премиум         3           1        0   \n",
       "3        NaN                    None         2           0        0   \n",
       "4  125510.82                    macc         1           1        1   \n",
       "\n",
       "   estimated_salary  churn  \n",
       "0         101348.88      1  \n",
       "1         112542.58      0  \n",
       "2         113931.57      1  \n",
       "3          93826.63      0  \n",
       "4          79084.10      0  "
      ]
     },
     "execution_count": 18,
     "metadata": {},
     "output_type": "execute_result"
    }
   ],
   "source": [
    "#добавила столбец для сегментации по возрастному диапазону\n",
    "def categorize_age(row):\n",
    "    try:\n",
    "        if 18 <= row <= 25:\n",
    "            return '18-25'\n",
    "        elif 26 <= row <= 35:\n",
    "            return '26-35'\n",
    "        elif 36 <= row <= 45:\n",
    "            return '36-45'\n",
    "        elif row >= 46:\n",
    "            return '45+'\n",
    "    except:\n",
    "        pass\n",
    "\n",
    "data.insert(5, 'categorу_client_age', data['age'].apply(categorize_age), True)\n",
    "data.head()"
   ]
  },
  {
   "cell_type": "markdown",
   "id": "8851646b",
   "metadata": {},
   "source": [
    "Добавила новые столбцы для сегментации и дальнейшего анализа:\n",
    "  \n",
    "    a) балансы на счетах - macc (среднестатистический клиент), премиум (клиент доверяет банку) и вип (клиент располагает ресурсами и доверяет банку)\n",
    "  \n",
    "    b) возрастной диапазон"
   ]
  },
  {
   "cell_type": "markdown",
   "id": "a1072e28",
   "metadata": {},
   "source": [
    "**Промежуточный вывод**\n",
    "- Пропуски только в поле balance (баланс на счете). В количестве 3617 шт, потеря данных составляет - 36%. Заполнять не будем, так как нет возможности посчитать достоверные значения\n",
    "- Дубликаты/Аномальные/Отрицательные значения отсутствуют"
   ]
  },
  {
   "cell_type": "markdown",
   "id": "d9e196ba",
   "metadata": {},
   "source": [
    "## Исследовательский анализ данных"
   ]
  },
  {
   "cell_type": "markdown",
   "id": "07dd6934",
   "metadata": {},
   "source": [
    "Проверила сегменты, обращая внимание на отток:\n",
    "1. по географическому признаку, учитывая среднее кол-во продуктов, баланс и зп (зарплата)\n",
    "2. по гендерному признаку, учитывая среднее кол-во продуктов, баланс и зп (зарплата)\n",
    "3. по возрастному диапазону, учитвая среднее кол-во продуктов, баланс и зп (зарплата)\n",
    "\n",
    "Также проверила:\n",
    "1. отток по географическому, гендерному, возрастному признаку, а также по кол-ву продуктов\n",
    "2. общее распределение по кол-ву потребляемых продуктов\n",
    "3. корреляцию по всему датасету"
   ]
  },
  {
   "cell_type": "code",
   "execution_count": 19,
   "id": "08cd7328",
   "metadata": {},
   "outputs": [
    {
     "data": {
      "image/png": "[encoded data removed]",
      "text/plain": [
       "<Figure size 1080x720 with 1 Axes>"
      ]
     },
     "metadata": {},
     "output_type": "display_data"
    },
    {
     "data": {
      "image/png": "[encoded data removed]",
      "text/plain": [
       "<Figure size 1080x720 with 1 Axes>"
      ]
     },
     "metadata": {},
     "output_type": "display_data"
    },
    {
     "data": {
      "image/png": "[encoded data removed]",
      "text/plain": [
       "<Figure size 1080x720 with 1 Axes>"
      ]
     },
     "metadata": {},
     "output_type": "display_data"
    }
   ],
   "source": [
    "#построила столбчатую диаграмму по среднему кол-ву продуктов (метод bar по городам, полу и возрастному диапазону)\n",
    "list = ['city', 'gender', 'categorу_client_age']\n",
    "    \n",
    "for row in list:\n",
    "    df_avg_products = (\n",
    "    data.groupby([row, 'churn'], as_index=False)['products']\n",
    "    .agg('mean')\n",
    "    .sort_values(by='products', ascending=False)\n",
    "    )\n",
    "    sns.barplot(data=df_avg_products, x=row, y='products', hue='churn')\n",
    "    plt.title('Среднее кол-во продуктов')\n",
    "    plt.ylabel('products')\n",
    "    plt.ylim(1.4, 1.6)\n",
    "    plt.show()"
   ]
  },
  {
   "cell_type": "markdown",
   "id": "ea2e53a8",
   "metadata": {},
   "source": [
    "Среднее кол-во продуктов больше: \n",
    "- по активным клиентам в городе Ростов Великий, а по показателю total - Рыбинск\n",
    "- у женского пола\n",
    "- лучше всего себя показывает возрастная категория 18-25 и 36-45\n",
    "- графики показывает прямую связь между оттоком и кол-во продуктов, то есть мы теряем клиентов в связи с низким средним проникновением продуктов по каждому сегменту"
   ]
  },
  {
   "cell_type": "code",
   "execution_count": 20,
   "id": "78bff045",
   "metadata": {},
   "outputs": [
    {
     "data": {
      "image/png": "[encoded data removed]",
      "text/plain": [
       "<Figure size 1080x720 with 1 Axes>"
      ]
     },
     "metadata": {},
     "output_type": "display_data"
    },
    {
     "data": {
      "image/png": "[encoded data removed]",
      "text/plain": [
       "<Figure size 1080x720 with 1 Axes>"
      ]
     },
     "metadata": {},
     "output_type": "display_data"
    },
    {
     "data": {
      "image/png": "[encoded data removed]",
      "text/plain": [
       "<Figure size 1080x720 with 1 Axes>"
      ]
     },
     "metadata": {},
     "output_type": "display_data"
    }
   ],
   "source": [
    "#построила столбчатую диаграмму по средним балансам на счетах (метод bar по городам, полу и возрастному диапазону)\n",
    "list = ['city', 'gender', 'categorу_client_age']\n",
    "    \n",
    "for row in list:\n",
    "    df_avg_balance = (\n",
    "    data.groupby([row, 'churn'], as_index=False)['balance']\n",
    "    .agg('median')\n",
    "    .sort_values(by='balance', ascending=False)\n",
    "    )\n",
    "    sns.barplot(data=df_avg_balance, x=row, y='balance', hue='churn')\n",
    "    plt.title('Средняя сумма на балансе')\n",
    "    plt.ylabel('balance')\n",
    "    plt.ylim(100000, 130000)\n",
    "    plt.show()"
   ]
  },
  {
   "cell_type": "markdown",
   "id": "e5854487",
   "metadata": {},
   "source": [
    "Средний баланс клиента больше: \n",
    "- в городе Ярославль\n",
    "- у мужского пола\n",
    "- лучше всего себя показывает возрастная категория 18-25 и 26-35\n",
    "- набор графиков показывает, что от нас уходят клиенты, у которых средняя сумма на счетах была больше"
   ]
  },
  {
   "cell_type": "code",
   "execution_count": 21,
   "id": "55c0667c",
   "metadata": {},
   "outputs": [
    {
     "data": {
      "image/png": "[encoded data removed]",
      "text/plain": [
       "<Figure size 1080x720 with 1 Axes>"
      ]
     },
     "metadata": {},
     "output_type": "display_data"
    },
    {
     "data": {
      "image/png": "[encoded data removed]",
      "text/plain": [
       "<Figure size 1080x720 with 1 Axes>"
      ]
     },
     "metadata": {},
     "output_type": "display_data"
    },
    {
     "data": {
      "image/png": "[encoded data removed]",
      "text/plain": [
       "<Figure size 1080x720 with 1 Axes>"
      ]
     },
     "metadata": {},
     "output_type": "display_data"
    }
   ],
   "source": [
    "#построила столбчатую диаграмму по средней зарплате (метод bar по городам, полу и возрастному диапазону)\n",
    "list = ['city', 'gender', 'categorу_client_age']\n",
    "    \n",
    "for row in list:\n",
    "    df_avg_salary = (\n",
    "    data.groupby([row, 'churn'], as_index=False)['estimated_salary']\n",
    "    .agg('median')\n",
    "    .sort_values(by='estimated_salary', ascending=False)\n",
    "    )\n",
    "    sns.barplot(data=df_avg_salary, x=row, y='estimated_salary',  hue='churn')\n",
    "    plt.title('Средняя зарплата')\n",
    "    plt.ylabel('salary')\n",
    "    plt.show()"
   ]
  },
  {
   "cell_type": "markdown",
   "id": "d0b1e34b",
   "metadata": {},
   "source": [
    "Средняя зарплата больше:\n",
    "- в городе Рыбинск\n",
    "- у женского пола\n",
    "- лучше всего себя показывает возрастная категория 18-25 и 26-35\n",
    "- уже второй набор графиков показывает, что от нас уходят более качественные клиенты"
   ]
  },
  {
   "cell_type": "code",
   "execution_count": 22,
   "id": "7078e6bc",
   "metadata": {},
   "outputs": [
    {
     "data": {
      "image/png": "[encoded data removed]",
      "text/plain": [
       "<Figure size 1080x720 with 1 Axes>"
      ]
     },
     "metadata": {},
     "output_type": "display_data"
    },
    {
     "data": {
      "image/png": "[encoded data removed]",
      "text/plain": [
       "<Figure size 1080x720 with 1 Axes>"
      ]
     },
     "metadata": {},
     "output_type": "display_data"
    },
    {
     "data": {
      "image/png": "[encoded data removed]",
      "text/plain": [
       "<Figure size 1080x720 with 1 Axes>"
      ]
     },
     "metadata": {},
     "output_type": "display_data"
    },
    {
     "data": {
      "image/png": "[encoded data removed]",
      "text/plain": [
       "<Figure size 1080x720 with 1 Axes>"
      ]
     },
     "metadata": {},
     "output_type": "display_data"
    }
   ],
   "source": [
    "#посмотрела % оттока по географии, гендерному признаку, возрастному диапазону и кол-ву продуктов\n",
    "list = ['city', 'gender', 'categorу_client_age', 'products']\n",
    "\n",
    "for row in list:\n",
    "    data_churn = (\n",
    "        data.query('churn == 1')\n",
    "        .pivot_table(index=row, values='churn', aggfunc='count')\n",
    "        .reset_index()\n",
    "    ) \n",
    "    data_total = data.pivot_table(index=row, values='churn', aggfunc='count').reset_index()\n",
    "    data_ratio_churn = data_churn.merge(data_total, on=row, how='left')\n",
    "    data_ratio_churn.columns = [row, 'cnt_churn', 'cnt_total']\n",
    "    data_ratio_churn['ratio'] = data_ratio_churn['cnt_churn']/data_ratio_churn['cnt_total']\n",
    "    data_ratio_churn = data_ratio_churn.sort_values(by='ratio')\n",
    "    sns.barplot(x=row, y='ratio', data=data_ratio_churn)\n",
    "    plt.title('Отток')\n",
    "    plt.show()"
   ]
  },
  {
   "cell_type": "markdown",
   "id": "55831812",
   "metadata": {},
   "source": [
    "Менее отточные клиенты:\n",
    "1. в городе Ярославль\n",
    "2. у мужского пола\n",
    "3. лучше всего себя показывает возрастная категория 18-25 и 26-35\n",
    "4. с 1 и 2 продуктами\n",
    "\n",
    "Отточные клиенты:\n",
    "1. в городе Ростов Великий\n",
    "2. у женского пола\n",
    "3. возрастная категория 35-45 и 45+\n",
    "4. у 3 и 4 продуктов отток достигает 80% и 100%"
   ]
  },
  {
   "cell_type": "code",
   "execution_count": 23,
   "id": "636bbafa",
   "metadata": {},
   "outputs": [
    {
     "data": {
      "text/plain": [
       "city\n",
       "Ростов Великий    120\n",
       "Рыбинск            73\n",
       "Ярославль         133\n",
       "Name: products, dtype: int64"
      ]
     },
     "execution_count": 23,
     "metadata": {},
     "output_type": "execute_result"
    }
   ],
   "source": [
    "#проверила, в каких городах концентрация клиентов с 3 и 4 продуктами\n",
    "data.query('products >= 3').groupby('city')['products'].count()"
   ]
  },
  {
   "cell_type": "markdown",
   "id": "75606bcf",
   "metadata": {},
   "source": [
    "Изначально было предположение, что в Ростове Великом самая большая концентрация клиентов с 3 и 4 продуктами, так как там высокое среднее проникновение продуктов и значительный отток.\n",
    "\n",
    "Гипотеза не подтвердилась"
   ]
  },
  {
   "cell_type": "code",
   "execution_count": 24,
   "id": "b0a738c5",
   "metadata": {},
   "outputs": [
    {
     "data": {
      "image/png": "[encoded data removed]",
      "text/plain": [
       "<Figure size 1080x720 with 1 Axes>"
      ]
     },
     "metadata": {},
     "output_type": "display_data"
    }
   ],
   "source": [
    "#общее распределение по кол-ву продуктов\n",
    "data_cnt_products = data.groupby('products')['userid'].count().reset_index()\n",
    "sns.barplot(data=data_cnt_products, x='products', y='userid')\n",
    "plt.title('Общее распределение по кол-ву продуктов')\n",
    "plt.xlabel('products')\n",
    "plt.ylabel('count')\n",
    "plt.show()"
   ]
  },
  {
   "cell_type": "markdown",
   "id": "49ae60ce",
   "metadata": {},
   "source": [
    "Самое распространенное значение - 1 и 2 продукта"
   ]
  },
  {
   "cell_type": "code",
   "execution_count": 25,
   "id": "4d14fa8a",
   "metadata": {},
   "outputs": [
    {
     "name": "stdout",
     "output_type": "stream",
     "text": [
      "interval columns not set, guessing: ['userid', 'score', 'age', 'objects', 'balance', 'products', 'creditcard', 'loyalty', 'estimated_salary', 'churn']\n"
     ]
    },
    {
     "data": {
      "image/png": "[encoded data removed]"
     },
     "metadata": {},
     "output_type": "display_data"
    }
   ],
   "source": [
    "#посмотрела корреляцию\n",
    "fig = px.imshow(data.phik_matrix(), text_auto='.2f', aspect='auto')\n",
    "fig.show()"
   ]
  },
  {
   "cell_type": "markdown",
   "id": "c947f715",
   "metadata": {},
   "source": [
    "На кол-во потребляемых продуктов влияет:\n",
    "1. Город\n",
    "2. Возраст\n",
    "3. Отток клиентов\n",
    "    \n",
    "На отток влияет: \n",
    "1. Пол\n",
    "2. Возраст\n",
    "3. Кол-во продуктов"
   ]
  },
  {
   "cell_type": "markdown",
   "id": "c4b32844",
   "metadata": {},
   "source": [
    "**Промежуточный вывод**\n",
    "\n",
    "- самое большое среднее значение потребляемых продуктов в городе Рыбинск, в Ростове Великом хорошее проникновение продуктов по активным клиентам, при этом высокий % оттока. В Ярославле активно используют счет (баланс), но история более распространена по отточным клиентам, значит в нашем случае использовали счет\n",
    "- самая топовая возрастная категория 18-25 и 26-35 - высокое среднее кол-во потребляемых продуктов и менее отточная категория, но оттекают качественные клиенты с значительными балансами на счетах и зарплатами. Отточные 36-45 и 45+\n",
    "- самое распространенное значение - 1 и 2 продукта и менее отточная категория, но очень высокая доля оттекших клиентов с 3 и 4 продуктами, возможно, ошибка в данных. Кол-во клиентов с 3 и 4 продуктам незначительное. \n",
    "- женский пол больше потребляет продукты банка, но и отточнее, мужской - более стабильный\n",
    "- можно выделить 2 сегмента, которые влияют на кол-во потребляемых продуктов: география и возраст\n",
    "- можно выделить 3 сегмента, которые влияют на отток: пол, возраст и кол-во продуктов"
   ]
  },
  {
   "cell_type": "markdown",
   "id": "32746f57",
   "metadata": {},
   "source": [
    "## Сегментация данных"
   ]
  },
  {
   "cell_type": "markdown",
   "id": "f96bfd40",
   "metadata": {},
   "source": [
    "Выделила два сегмента по кол-ву потребляемых продуктов:\n",
    "1. география\n",
    "2. возраст\n",
    "\n",
    "Построила линейные графики по сегментам выше и графики распределения, а также проверила проникновение кредитных карт"
   ]
  },
  {
   "cell_type": "code",
   "execution_count": 26,
   "id": "3024ed21",
   "metadata": {},
   "outputs": [
    {
     "data": {
      "image/png": "[encoded data removed]"
     },
     "metadata": {},
     "output_type": "display_data"
    },
    {
     "data": {
      "image/png": "[encoded data removed]"
     },
     "metadata": {},
     "output_type": "display_data"
    }
   ],
   "source": [
    "list = ['categorу_client_age', 'city']\n",
    "\n",
    "for row in list:\n",
    "    df_avg_products2 = (\n",
    "    data.groupby(row, as_index=False)['products']\n",
    "    .agg('mean')\n",
    "    .sort_values(by='products', ascending=False)\n",
    "    )\n",
    "    fig = px.line(df_avg_products2, x=row, y='products', markers=True)\n",
    "    fig.update_layout(title='Среднее кол-во потребляемых продуктов')\n",
    "    fig.show()"
   ]
  },
  {
   "cell_type": "code",
   "execution_count": 27,
   "id": "26c82ecd",
   "metadata": {},
   "outputs": [
    {
     "data": {
      "image/png": "[encoded data removed]"
     },
     "metadata": {},
     "output_type": "display_data"
    },
    {
     "data": {
      "image/png": "[encoded data removed]"
     },
     "metadata": {},
     "output_type": "display_data"
    }
   ],
   "source": [
    "list = ['categorу_client_age', 'city']\n",
    "\n",
    "for row in list:\n",
    "    df_creditCard = (\n",
    "    data.groupby(row, as_index=False)['creditcard']\n",
    "    .agg('sum')\n",
    "    .sort_values(by='creditcard', ascending=False)\n",
    "    )\n",
    "    fig = px.line(df_creditCard, x=row, y='creditcard', markers=True)\n",
    "    fig.update_layout(title='Общее кол-во кредитных карт')\n",
    "    fig.show()"
   ]
  },
  {
   "cell_type": "code",
   "execution_count": 28,
   "id": "b7b0ec2b",
   "metadata": {},
   "outputs": [
    {
     "data": {
      "image/png": "[encoded data removed]",
      "text/plain": [
       "<Figure size 360x360 with 1 Axes>"
      ]
     },
     "metadata": {},
     "output_type": "display_data"
    },
    {
     "data": {
      "image/png": "[encoded data removed]",
      "text/plain": [
       "<Figure size 360x360 with 1 Axes>"
      ]
     },
     "metadata": {},
     "output_type": "display_data"
    },
    {
     "data": {
      "image/png": "[encoded data removed]",
      "text/plain": [
       "<Figure size 360x360 with 1 Axes>"
      ]
     },
     "metadata": {},
     "output_type": "display_data"
    },
    {
     "data": {
      "image/png": "[encoded data removed]",
      "text/plain": [
       "<Figure size 360x360 with 1 Axes>"
      ]
     },
     "metadata": {},
     "output_type": "display_data"
    },
    {
     "data": {
      "image/png": "[encoded data removed]",
      "text/plain": [
       "<Figure size 360x360 with 1 Axes>"
      ]
     },
     "metadata": {},
     "output_type": "display_data"
    },
    {
     "data": {
      "image/png": "[encoded data removed]",
      "text/plain": [
       "<Figure size 360x360 with 1 Axes>"
      ]
     },
     "metadata": {},
     "output_type": "display_data"
    }
   ],
   "source": [
    "#построила график распределения по возрастному диапазону и географии\n",
    "list= ['score', 'categorу_client_age', 'city', 'balance', 'creditcard', 'estimated_salary']\n",
    "\n",
    "for row in list:\n",
    "    sns.displot(data[row])\n",
    "    plt.show()"
   ]
  },
  {
   "cell_type": "markdown",
   "id": "e1b2cb13",
   "metadata": {},
   "source": [
    "**Промежуточный вывод:**\n",
    "1. Как и ранее было озвучено, стабильные города Рыбинск и Ярославль, наилучший возраст - 18-25 и 26-35. Вывод сформирован с учетом ранее проанализированного признака отток\n",
    "2. Была гипотеза, что на кол-во потребляемых продуктов влияет наличие кредитной карты, не подтвердилось. Так как по кредитным картам в топе город Ярославль и возрастная категория 36-45\n",
    "3. Определила основные сегменты: География и Возраст (18-25, 26-35, 36-45 и 45+). Не стала рассматривать сегменты - по скорнгу, балансам и зп, хотя можно было и разделить, так как нет прямой корреляции с кол-вом потребляемых продуктов. А моя цель сегментировать клиентов по кол-ву потребляемых продуктов. Как я понимаю у сегментов должна быть корреляция с продуктами, чтобы в дальнейшем правильно оценить эффект внедренных изменений/рекомендаций"
   ]
  },
  {
   "cell_type": "markdown",
   "id": "17431e47",
   "metadata": {},
   "source": [
    "## Проверка гипотез"
   ]
  },
  {
   "cell_type": "markdown",
   "id": "6b965906",
   "metadata": {},
   "source": [
    "H_0: Средний доход клиента, у которого 1 продукт = Среднему доходу клиента, у которого 2 продукта\n",
    "\n",
    "H_1: Средний доход клиента, у которого 1 продукт ≠ Среднему доходу клиента, у которого 2 продукта\n",
    "alpha = 0.05"
   ]
  },
  {
   "cell_type": "code",
   "execution_count": 29,
   "id": "508e558d",
   "metadata": {},
   "outputs": [
    {
     "name": "stdout",
     "output_type": "stream",
     "text": [
      "0.4106493940071987\n",
      "Не получилось отвергнуть нулевую гипотезу\n"
     ]
    }
   ],
   "source": [
    "one_products = data['estimated_salary'].loc[data['products'] == 1]\n",
    "two_products = data['estimated_salary'].loc[data['products'] == 2]\n",
    "\n",
    "results = st.ttest_ind (one_products, two_products, equal_var = False)\n",
    "\n",
    "alpha = .05\n",
    "\n",
    "print (results.pvalue)\n",
    "if results.pvalue < alpha:\n",
    "    print ('Отвергаем нулевую гипотезу')\n",
    "else:\n",
    "    print ('Не получилось отвергнуть нулевую гипотезу')"
   ]
  },
  {
   "cell_type": "markdown",
   "id": "f2aba6ad",
   "metadata": {},
   "source": [
    "Доходы клиентов не различаются от кол-ва потребляемых продуктов"
   ]
  },
  {
   "cell_type": "markdown",
   "id": "cc27b95b",
   "metadata": {},
   "source": [
    "H_0: Среднее кол-во потребляемых продуктов женского пола = Среднему кол-ву потребляемых продуктов мужского пола\n",
    "\n",
    "H_1: Среднее кол-во потребляемых продуктов женского пола ≠  Среднему кол-ву потребляемых продуктов мужского пола\n",
    "alpha = 0.05"
   ]
  },
  {
   "cell_type": "code",
   "execution_count": 30,
   "id": "725ffd06",
   "metadata": {},
   "outputs": [
    {
     "name": "stdout",
     "output_type": "stream",
     "text": [
      "0.029852897649284147\n",
      "Отвергаем нулевую гипотезу\n"
     ]
    }
   ],
   "source": [
    "female = data['products'].loc[data['gender'] == 'Ж']\n",
    "male = data['products'].loc[data['gender'] == 'М']\n",
    "\n",
    "results = st.ttest_ind (female, male, equal_var = False)\n",
    "\n",
    "alpha = .05\n",
    "\n",
    "print (results.pvalue)\n",
    "if results.pvalue < alpha:\n",
    "    print ('Отвергаем нулевую гипотезу')\n",
    "else:\n",
    "    print ('Не получилось отвергнуть нулевую гипотезу')"
   ]
  },
  {
   "cell_type": "markdown",
   "id": "e7679ace",
   "metadata": {},
   "source": [
    "Разница есть между средним кол-вом потребляемых продуктов по гендерному признаку. Также это видно на графиках выше"
   ]
  },
  {
   "cell_type": "markdown",
   "id": "cb93b9de",
   "metadata": {},
   "source": [
    "## Вывод и рекомендации"
   ]
  },
  {
   "cell_type": "markdown",
   "id": "b4b285d2",
   "metadata": {},
   "source": [
    "**Вывод:**\n",
    "\n",
    "1.\tсамое большое среднее значение потребляемых продуктов в городе Рыбинск, в Ростове Великом хорошее проникновение продуктов по активным клиентам, при этом высокий % оттока. В Ярославле активно используют счет (баланс), но история более распространена по отточным клиентам, значит в нашем случае использовали счет\n",
    "2.\tсамая топовая возрастная категория 18-25 и 26-35 - высокое среднее кол-во потребляемых продуктов и менее отточная категория, но оттекают качественные клиенты с значительными балансами на счетах и зарплатами. Отточные 36-45 и 45+\n",
    "3.\tсамое распространенное значение - 1 и 2 продукта и менее отточная категория, очень высокая доля оттекших клиентов с 3 и 4 продуктами, возможно, ошибка в данных. Кол-во клиентов с 3 и 4 продуктам незначительное.\n",
    "4.\tженский пол больше потребляет продукты банка, но и отточнее, мужской - более стабильный\n",
    "5.\tможно выделить 2 сегмента, которые влияют на кол-во потребляемых продуктов: география и возраст\n",
    "6.\tможно выделить 3 сегмента, которые влияют на отток: пол, возраст и кол-во продуктов\n",
    "7.\tна кол-во потребляемых продуктов не влияет наличие кредитной карты\n",
    "\n",
    "**Рекомендации:**\n",
    "\n",
    "Сегмент:\n",
    "\n",
    "1.\tдля увеличения кол-ва потребляемых продуктов необходимо запустить рекламу с учетом географии и возраста\n",
    "2.\tвнедрить в управленческие и мотивационные показатели бонус за кросс-продажи\n",
    "3.\tреализовать систему лояльности. Более подробно описано в пункте Отток\n",
    "\n",
    "Отток:\n",
    "\n",
    "1.\tотдельно проанализировать город Великий Ростов, так как очень большая концентрация отточных клиентов\n",
    "2.\tреализовать несколько программ лояльности, которые будет отвечать потребностям клиента. Так как от нас уходят качественные клиенты, то необходимо разработать программу на удержание по сегментам пол, возраст и кол-во продуктов:\n",
    "\n",
    "а) пол: персонализированные условия по кэшбэку(категории) исходя из гендерного признака\n",
    "\n",
    "b) возраст: улучшенные условия по дебетовым картам и вкладам\n",
    "\n",
    "18-25 - лимитированные дебетовые/кредитные карты \n",
    "\n",
    "25-35 и 36-45 - улучшенные условия по дебетовой/кредитной карте, а именно отсутствие комиссий и дополнительные бонусы при перечислении зарплатной платы на карту банка \n",
    "\n",
    "45+ - улучшенные условия по вкладкам\n",
    "\n",
    "с) кол-во продуктов: обязательно внедрить дополнительные бонусы при наличии 3 и более продуктов"
   ]
  },
  {
   "cell_type": "markdown",
   "id": "30e897a5",
   "metadata": {},
   "source": [
    "## Презентация"
   ]
  },
  {
   "cell_type": "markdown",
   "id": "2dbcfd84",
   "metadata": {},
   "source": [
    "<https://drive.google.com/file/d/1V_DZPUzhZkUPEgLJedQjs1-CnVLnSlrH/view?usp=sharing>"
   ]
  },
  {
   "cell_type": "markdown",
   "id": "45fe7df3",
   "metadata": {},
   "source": [
    "## Дашборд"
   ]
  },
  {
   "cell_type": "markdown",
   "id": "614b9fb4",
   "metadata": {},
   "source": [
    "https://public.tableau.com/app/profile/anna1587/viz/bank_16685996929400/Dashboard1?publish=yes"
   ]
  }
 ],
 "metadata": {
  "ExecuteTimeLog": [
   {
    "duration": 2273,
    "start_time": "2022-11-15T10:35:21.290Z"
   },
   {
    "duration": 1196,
    "start_time": "2022-11-15T10:35:23.565Z"
   },
   {
    "duration": 39,
    "start_time": "2022-11-15T10:35:24.763Z"
   },
   {
    "duration": 16,
    "start_time": "2022-11-15T10:35:24.804Z"
   },
   {
    "duration": 13,
    "start_time": "2022-11-15T10:35:24.822Z"
   },
   {
    "duration": 34,
    "start_time": "2022-11-15T10:35:24.836Z"
   },
   {
    "duration": 39,
    "start_time": "2022-11-15T10:35:24.871Z"
   },
   {
    "duration": 21,
    "start_time": "2022-11-15T10:35:24.912Z"
   },
   {
    "duration": 16,
    "start_time": "2022-11-15T10:35:24.935Z"
   },
   {
    "duration": 41,
    "start_time": "2022-11-15T10:35:24.953Z"
   },
   {
    "duration": 17,
    "start_time": "2022-11-15T10:35:24.996Z"
   },
   {
    "duration": 43,
    "start_time": "2022-11-15T10:35:25.015Z"
   },
   {
    "duration": 652,
    "start_time": "2022-11-15T10:35:25.060Z"
   },
   {
    "duration": 607,
    "start_time": "2022-11-15T10:35:25.715Z"
   },
   {
    "duration": 14,
    "start_time": "2022-11-15T10:35:26.324Z"
   },
   {
    "duration": 10,
    "start_time": "2022-11-15T10:35:26.340Z"
   },
   {
    "duration": 11,
    "start_time": "2022-11-15T10:35:26.351Z"
   },
   {
    "duration": 686,
    "start_time": "2022-11-15T10:35:26.363Z"
   },
   {
    "duration": 646,
    "start_time": "2022-11-15T10:35:27.050Z"
   },
   {
    "duration": 7,
    "start_time": "2022-11-15T10:35:27.698Z"
   },
   {
    "duration": 167,
    "start_time": "2022-11-15T10:35:27.707Z"
   },
   {
    "duration": 754,
    "start_time": "2022-11-15T10:35:27.875Z"
   },
   {
    "duration": 0,
    "start_time": "2022-11-15T10:35:28.631Z"
   },
   {
    "duration": 0,
    "start_time": "2022-11-15T10:35:28.635Z"
   },
   {
    "duration": 0,
    "start_time": "2022-11-15T10:35:28.636Z"
   },
   {
    "duration": 0,
    "start_time": "2022-11-15T10:35:28.637Z"
   },
   {
    "duration": 707,
    "start_time": "2022-11-15T10:36:38.831Z"
   },
   {
    "duration": 132,
    "start_time": "2022-11-15T10:36:39.540Z"
   },
   {
    "duration": 7,
    "start_time": "2022-11-15T10:36:39.673Z"
   },
   {
    "duration": 8,
    "start_time": "2022-11-15T10:36:39.910Z"
   },
   {
    "duration": 55,
    "start_time": "2022-11-15T10:37:08.500Z"
   },
   {
    "duration": 71,
    "start_time": "2022-11-15T10:54:18.740Z"
   },
   {
    "duration": 3107,
    "start_time": "2022-11-15T16:17:44.926Z"
   },
   {
    "duration": 1481,
    "start_time": "2022-11-15T16:17:48.037Z"
   },
   {
    "duration": 74,
    "start_time": "2022-11-15T16:17:49.522Z"
   },
   {
    "duration": 22,
    "start_time": "2022-11-15T16:17:49.597Z"
   },
   {
    "duration": 14,
    "start_time": "2022-11-15T16:17:49.623Z"
   },
   {
    "duration": 6,
    "start_time": "2022-11-15T16:17:49.639Z"
   },
   {
    "duration": 5,
    "start_time": "2022-11-15T16:17:49.646Z"
   },
   {
    "duration": 8,
    "start_time": "2022-11-15T16:17:49.652Z"
   },
   {
    "duration": 10,
    "start_time": "2022-11-15T16:17:49.661Z"
   },
   {
    "duration": 65,
    "start_time": "2022-11-15T16:17:49.672Z"
   },
   {
    "duration": 22,
    "start_time": "2022-11-15T16:17:49.739Z"
   },
   {
    "duration": 16,
    "start_time": "2022-11-15T16:17:49.762Z"
   },
   {
    "duration": 718,
    "start_time": "2022-11-15T16:17:49.780Z"
   },
   {
    "duration": 637,
    "start_time": "2022-11-15T16:17:50.501Z"
   },
   {
    "duration": 11,
    "start_time": "2022-11-15T16:17:51.140Z"
   },
   {
    "duration": 10,
    "start_time": "2022-11-15T16:17:51.152Z"
   },
   {
    "duration": 8,
    "start_time": "2022-11-15T16:17:51.163Z"
   },
   {
    "duration": 669,
    "start_time": "2022-11-15T16:17:51.173Z"
   },
   {
    "duration": 627,
    "start_time": "2022-11-15T16:17:51.844Z"
   },
   {
    "duration": 8,
    "start_time": "2022-11-15T16:17:52.473Z"
   },
   {
    "duration": 174,
    "start_time": "2022-11-15T16:17:52.482Z"
   },
   {
    "duration": 740,
    "start_time": "2022-11-15T16:17:52.658Z"
   },
   {
    "duration": 0,
    "start_time": "2022-11-15T16:17:53.400Z"
   },
   {
    "duration": 0,
    "start_time": "2022-11-15T16:17:53.401Z"
   },
   {
    "duration": 0,
    "start_time": "2022-11-15T16:17:53.402Z"
   },
   {
    "duration": 0,
    "start_time": "2022-11-15T16:17:53.403Z"
   },
   {
    "duration": 617,
    "start_time": "2022-11-15T16:28:26.009Z"
   },
   {
    "duration": 97,
    "start_time": "2022-11-15T16:28:33.798Z"
   },
   {
    "duration": 6,
    "start_time": "2022-11-15T16:28:48.564Z"
   },
   {
    "duration": 9,
    "start_time": "2022-11-15T16:28:51.937Z"
   },
   {
    "duration": 2307,
    "start_time": "2022-11-15T16:45:34.462Z"
   },
   {
    "duration": 1332,
    "start_time": "2022-11-15T16:45:36.771Z"
   },
   {
    "duration": 64,
    "start_time": "2022-11-15T16:45:38.104Z"
   },
   {
    "duration": 24,
    "start_time": "2022-11-15T16:45:38.171Z"
   },
   {
    "duration": 21,
    "start_time": "2022-11-15T16:45:38.197Z"
   },
   {
    "duration": 38,
    "start_time": "2022-11-15T16:45:38.223Z"
   },
   {
    "duration": 33,
    "start_time": "2022-11-15T16:45:38.263Z"
   },
   {
    "duration": 57,
    "start_time": "2022-11-15T16:45:38.297Z"
   },
   {
    "duration": 19,
    "start_time": "2022-11-15T16:45:38.357Z"
   },
   {
    "duration": 70,
    "start_time": "2022-11-15T16:45:38.380Z"
   },
   {
    "duration": 32,
    "start_time": "2022-11-15T16:45:38.452Z"
   },
   {
    "duration": 41,
    "start_time": "2022-11-15T16:45:38.486Z"
   },
   {
    "duration": 729,
    "start_time": "2022-11-15T16:45:38.528Z"
   },
   {
    "duration": 633,
    "start_time": "2022-11-15T16:45:39.259Z"
   },
   {
    "duration": 24,
    "start_time": "2022-11-15T16:45:39.893Z"
   },
   {
    "duration": 34,
    "start_time": "2022-11-15T16:45:39.919Z"
   },
   {
    "duration": 21,
    "start_time": "2022-11-15T16:45:39.955Z"
   },
   {
    "duration": 798,
    "start_time": "2022-11-15T16:45:39.977Z"
   },
   {
    "duration": 710,
    "start_time": "2022-11-15T16:45:40.777Z"
   },
   {
    "duration": 8,
    "start_time": "2022-11-15T16:45:41.489Z"
   },
   {
    "duration": 192,
    "start_time": "2022-11-15T16:45:41.499Z"
   },
   {
    "duration": 817,
    "start_time": "2022-11-15T16:45:41.692Z"
   },
   {
    "duration": 0,
    "start_time": "2022-11-15T16:45:42.511Z"
   },
   {
    "duration": 0,
    "start_time": "2022-11-15T16:45:42.512Z"
   },
   {
    "duration": 0,
    "start_time": "2022-11-15T16:45:42.513Z"
   },
   {
    "duration": 0,
    "start_time": "2022-11-15T16:45:42.514Z"
   },
   {
    "duration": 12,
    "start_time": "2022-11-15T16:51:01.238Z"
   },
   {
    "duration": 10,
    "start_time": "2022-11-15T16:51:10.788Z"
   },
   {
    "duration": 62,
    "start_time": "2022-11-15T16:56:55.389Z"
   },
   {
    "duration": 2105,
    "start_time": "2022-11-15T16:57:02.937Z"
   },
   {
    "duration": 1247,
    "start_time": "2022-11-15T16:57:05.044Z"
   },
   {
    "duration": 48,
    "start_time": "2022-11-15T16:57:06.293Z"
   },
   {
    "duration": 18,
    "start_time": "2022-11-15T16:57:06.345Z"
   },
   {
    "duration": 11,
    "start_time": "2022-11-15T16:57:06.365Z"
   },
   {
    "duration": 6,
    "start_time": "2022-11-15T16:57:06.378Z"
   },
   {
    "duration": 5,
    "start_time": "2022-11-15T16:57:06.385Z"
   },
   {
    "duration": 132,
    "start_time": "2022-11-15T16:57:06.424Z"
   },
   {
    "duration": 0,
    "start_time": "2022-11-15T16:57:06.558Z"
   },
   {
    "duration": 0,
    "start_time": "2022-11-15T16:57:06.559Z"
   },
   {
    "duration": 0,
    "start_time": "2022-11-15T16:57:06.560Z"
   },
   {
    "duration": 0,
    "start_time": "2022-11-15T16:57:06.561Z"
   },
   {
    "duration": 0,
    "start_time": "2022-11-15T16:57:06.562Z"
   },
   {
    "duration": 0,
    "start_time": "2022-11-15T16:57:06.563Z"
   },
   {
    "duration": 0,
    "start_time": "2022-11-15T16:57:06.564Z"
   },
   {
    "duration": 0,
    "start_time": "2022-11-15T16:57:06.565Z"
   },
   {
    "duration": 0,
    "start_time": "2022-11-15T16:57:06.566Z"
   },
   {
    "duration": 0,
    "start_time": "2022-11-15T16:57:06.567Z"
   },
   {
    "duration": 0,
    "start_time": "2022-11-15T16:57:06.568Z"
   },
   {
    "duration": 0,
    "start_time": "2022-11-15T16:57:06.569Z"
   },
   {
    "duration": 0,
    "start_time": "2022-11-15T16:57:06.570Z"
   },
   {
    "duration": 0,
    "start_time": "2022-11-15T16:57:06.571Z"
   },
   {
    "duration": 0,
    "start_time": "2022-11-15T16:57:06.572Z"
   },
   {
    "duration": 0,
    "start_time": "2022-11-15T16:57:06.573Z"
   },
   {
    "duration": 0,
    "start_time": "2022-11-15T16:57:06.574Z"
   },
   {
    "duration": 0,
    "start_time": "2022-11-15T16:57:06.575Z"
   },
   {
    "duration": 0,
    "start_time": "2022-11-15T16:57:06.576Z"
   },
   {
    "duration": 8,
    "start_time": "2022-11-15T16:57:16.473Z"
   },
   {
    "duration": 7,
    "start_time": "2022-11-15T16:57:54.191Z"
   },
   {
    "duration": 29,
    "start_time": "2022-11-15T16:58:03.002Z"
   },
   {
    "duration": 5,
    "start_time": "2022-11-15T16:58:27.374Z"
   },
   {
    "duration": 9,
    "start_time": "2022-11-15T16:59:20.443Z"
   },
   {
    "duration": 19,
    "start_time": "2022-11-15T16:59:26.592Z"
   },
   {
    "duration": 2,
    "start_time": "2022-11-15T17:09:58.790Z"
   },
   {
    "duration": 26,
    "start_time": "2022-11-15T17:10:09.437Z"
   },
   {
    "duration": 11,
    "start_time": "2022-11-15T17:10:16.438Z"
   },
   {
    "duration": 6,
    "start_time": "2022-11-15T17:10:34.274Z"
   },
   {
    "duration": 7,
    "start_time": "2022-11-15T17:10:42.869Z"
   },
   {
    "duration": 9,
    "start_time": "2022-11-15T17:11:20.300Z"
   },
   {
    "duration": 10,
    "start_time": "2022-11-15T17:11:27.147Z"
   },
   {
    "duration": 17,
    "start_time": "2022-11-15T17:12:13.200Z"
   },
   {
    "duration": 6,
    "start_time": "2022-11-15T17:12:23.643Z"
   },
   {
    "duration": 9,
    "start_time": "2022-11-15T17:12:56.562Z"
   },
   {
    "duration": 4,
    "start_time": "2022-11-15T17:13:00.005Z"
   },
   {
    "duration": 7,
    "start_time": "2022-11-15T17:13:03.192Z"
   },
   {
    "duration": 10,
    "start_time": "2022-11-15T17:14:08.707Z"
   },
   {
    "duration": 5,
    "start_time": "2022-11-15T17:14:49.675Z"
   },
   {
    "duration": 9,
    "start_time": "2022-11-15T17:14:57.686Z"
   },
   {
    "duration": 9,
    "start_time": "2022-11-15T17:16:36.551Z"
   },
   {
    "duration": 9,
    "start_time": "2022-11-15T17:16:51.266Z"
   },
   {
    "duration": 9,
    "start_time": "2022-11-15T17:17:26.956Z"
   },
   {
    "duration": 3,
    "start_time": "2022-11-15T17:17:30.765Z"
   },
   {
    "duration": 10,
    "start_time": "2022-11-15T17:17:32.974Z"
   },
   {
    "duration": 21,
    "start_time": "2022-11-15T17:22:20.599Z"
   },
   {
    "duration": 16,
    "start_time": "2022-11-15T17:22:32.452Z"
   },
   {
    "duration": 10,
    "start_time": "2022-11-15T17:23:10.232Z"
   },
   {
    "duration": 11,
    "start_time": "2022-11-15T17:23:20.111Z"
   },
   {
    "duration": 8,
    "start_time": "2022-11-15T17:23:28.676Z"
   },
   {
    "duration": 3,
    "start_time": "2022-11-15T17:24:29.642Z"
   },
   {
    "duration": 16,
    "start_time": "2022-11-15T17:24:34.773Z"
   },
   {
    "duration": 7,
    "start_time": "2022-11-15T17:24:56.267Z"
   },
   {
    "duration": 17,
    "start_time": "2022-11-15T17:26:45.647Z"
   },
   {
    "duration": 16,
    "start_time": "2022-11-15T17:26:49.952Z"
   },
   {
    "duration": 2300,
    "start_time": "2022-11-15T17:26:55.793Z"
   },
   {
    "duration": 1366,
    "start_time": "2022-11-15T17:26:58.095Z"
   },
   {
    "duration": 32,
    "start_time": "2022-11-15T17:26:59.463Z"
   },
   {
    "duration": 18,
    "start_time": "2022-11-15T17:26:59.497Z"
   },
   {
    "duration": 47,
    "start_time": "2022-11-15T17:26:59.518Z"
   },
   {
    "duration": 7,
    "start_time": "2022-11-15T17:26:59.566Z"
   },
   {
    "duration": 6,
    "start_time": "2022-11-15T17:26:59.574Z"
   },
   {
    "duration": 17,
    "start_time": "2022-11-15T17:26:59.581Z"
   },
   {
    "duration": 10,
    "start_time": "2022-11-15T17:26:59.599Z"
   },
   {
    "duration": 12,
    "start_time": "2022-11-15T17:26:59.611Z"
   },
   {
    "duration": 41,
    "start_time": "2022-11-15T17:26:59.625Z"
   },
   {
    "duration": 37,
    "start_time": "2022-11-15T17:26:59.668Z"
   },
   {
    "duration": 24,
    "start_time": "2022-11-15T17:26:59.706Z"
   },
   {
    "duration": 46,
    "start_time": "2022-11-15T17:26:59.732Z"
   },
   {
    "duration": 849,
    "start_time": "2022-11-15T17:26:59.779Z"
   },
   {
    "duration": 731,
    "start_time": "2022-11-15T17:27:00.633Z"
   },
   {
    "duration": 11,
    "start_time": "2022-11-15T17:27:01.365Z"
   },
   {
    "duration": 10,
    "start_time": "2022-11-15T17:27:01.378Z"
   },
   {
    "duration": 50,
    "start_time": "2022-11-15T17:27:01.389Z"
   },
   {
    "duration": 757,
    "start_time": "2022-11-15T17:27:01.446Z"
   },
   {
    "duration": 773,
    "start_time": "2022-11-15T17:27:02.204Z"
   },
   {
    "duration": 8,
    "start_time": "2022-11-15T17:27:02.979Z"
   },
   {
    "duration": 204,
    "start_time": "2022-11-15T17:27:02.989Z"
   },
   {
    "duration": 861,
    "start_time": "2022-11-15T17:27:03.195Z"
   },
   {
    "duration": 0,
    "start_time": "2022-11-15T17:27:04.058Z"
   },
   {
    "duration": 0,
    "start_time": "2022-11-15T17:27:04.059Z"
   },
   {
    "duration": 0,
    "start_time": "2022-11-15T17:27:04.061Z"
   },
   {
    "duration": 0,
    "start_time": "2022-11-15T17:27:04.062Z"
   },
   {
    "duration": 1607,
    "start_time": "2022-11-15T17:27:14.369Z"
   },
   {
    "duration": 1411,
    "start_time": "2022-11-15T17:27:31.850Z"
   },
   {
    "duration": 2164,
    "start_time": "2022-11-15T17:27:41.371Z"
   },
   {
    "duration": 1318,
    "start_time": "2022-11-15T17:27:43.537Z"
   },
   {
    "duration": 32,
    "start_time": "2022-11-15T17:27:44.857Z"
   },
   {
    "duration": 17,
    "start_time": "2022-11-15T17:27:44.890Z"
   },
   {
    "duration": 29,
    "start_time": "2022-11-15T17:27:44.908Z"
   },
   {
    "duration": 27,
    "start_time": "2022-11-15T17:27:44.939Z"
   },
   {
    "duration": 5,
    "start_time": "2022-11-15T17:27:44.968Z"
   },
   {
    "duration": 18,
    "start_time": "2022-11-15T17:27:44.975Z"
   },
   {
    "duration": 111,
    "start_time": "2022-11-15T17:27:44.994Z"
   },
   {
    "duration": 0,
    "start_time": "2022-11-15T17:27:45.107Z"
   },
   {
    "duration": 0,
    "start_time": "2022-11-15T17:27:45.108Z"
   },
   {
    "duration": 0,
    "start_time": "2022-11-15T17:27:45.109Z"
   },
   {
    "duration": 0,
    "start_time": "2022-11-15T17:27:45.120Z"
   },
   {
    "duration": 0,
    "start_time": "2022-11-15T17:27:45.121Z"
   },
   {
    "duration": 0,
    "start_time": "2022-11-15T17:27:45.122Z"
   },
   {
    "duration": 0,
    "start_time": "2022-11-15T17:27:45.122Z"
   },
   {
    "duration": 0,
    "start_time": "2022-11-15T17:27:45.124Z"
   },
   {
    "duration": 0,
    "start_time": "2022-11-15T17:27:45.125Z"
   },
   {
    "duration": 0,
    "start_time": "2022-11-15T17:27:45.126Z"
   },
   {
    "duration": 0,
    "start_time": "2022-11-15T17:27:45.127Z"
   },
   {
    "duration": 0,
    "start_time": "2022-11-15T17:27:45.128Z"
   },
   {
    "duration": 0,
    "start_time": "2022-11-15T17:27:45.129Z"
   },
   {
    "duration": 0,
    "start_time": "2022-11-15T17:27:45.130Z"
   },
   {
    "duration": 0,
    "start_time": "2022-11-15T17:27:45.131Z"
   },
   {
    "duration": 0,
    "start_time": "2022-11-15T17:27:45.132Z"
   },
   {
    "duration": 0,
    "start_time": "2022-11-15T17:27:45.133Z"
   },
   {
    "duration": 0,
    "start_time": "2022-11-15T17:27:45.134Z"
   },
   {
    "duration": 0,
    "start_time": "2022-11-15T17:27:45.135Z"
   },
   {
    "duration": 7,
    "start_time": "2022-11-15T17:27:56.378Z"
   },
   {
    "duration": 9,
    "start_time": "2022-11-15T17:28:19.776Z"
   },
   {
    "duration": 37,
    "start_time": "2022-11-15T17:28:28.215Z"
   },
   {
    "duration": 10,
    "start_time": "2022-11-15T17:28:47.466Z"
   },
   {
    "duration": 9,
    "start_time": "2022-11-15T17:28:52.633Z"
   },
   {
    "duration": 22,
    "start_time": "2022-11-15T17:29:03.830Z"
   },
   {
    "duration": 3,
    "start_time": "2022-11-15T17:34:43.241Z"
   },
   {
    "duration": 13,
    "start_time": "2022-11-15T17:34:47.788Z"
   },
   {
    "duration": 16,
    "start_time": "2022-11-15T17:34:50.374Z"
   },
   {
    "duration": 34,
    "start_time": "2022-11-15T17:34:52.645Z"
   },
   {
    "duration": 22,
    "start_time": "2022-11-15T17:34:57.101Z"
   },
   {
    "duration": 32,
    "start_time": "2022-11-15T17:35:01.299Z"
   },
   {
    "duration": 700,
    "start_time": "2022-11-15T17:35:06.242Z"
   },
   {
    "duration": 725,
    "start_time": "2022-11-15T17:35:16.761Z"
   },
   {
    "duration": 15,
    "start_time": "2022-11-15T17:35:20.499Z"
   },
   {
    "duration": 15,
    "start_time": "2022-11-15T17:35:23.178Z"
   },
   {
    "duration": 12,
    "start_time": "2022-11-15T17:35:26.140Z"
   },
   {
    "duration": 854,
    "start_time": "2022-11-15T17:35:50.133Z"
   },
   {
    "duration": 743,
    "start_time": "2022-11-15T17:35:53.970Z"
   },
   {
    "duration": 11,
    "start_time": "2022-11-15T17:35:57.209Z"
   },
   {
    "duration": 168,
    "start_time": "2022-11-15T17:35:59.629Z"
   },
   {
    "duration": 713,
    "start_time": "2022-11-15T17:36:06.060Z"
   },
   {
    "duration": 21638,
    "start_time": "2022-11-15T17:39:16.652Z"
   },
   {
    "duration": 2366,
    "start_time": "2022-11-15T17:39:39.843Z"
   },
   {
    "duration": 2155,
    "start_time": "2022-11-15T17:39:42.211Z"
   },
   {
    "duration": 1237,
    "start_time": "2022-11-15T17:39:44.368Z"
   },
   {
    "duration": 53,
    "start_time": "2022-11-15T17:39:45.607Z"
   },
   {
    "duration": 18,
    "start_time": "2022-11-15T17:39:45.662Z"
   },
   {
    "duration": 11,
    "start_time": "2022-11-15T17:39:45.681Z"
   },
   {
    "duration": 7,
    "start_time": "2022-11-15T17:39:45.694Z"
   },
   {
    "duration": 9,
    "start_time": "2022-11-15T17:39:45.702Z"
   },
   {
    "duration": 35,
    "start_time": "2022-11-15T17:39:45.712Z"
   },
   {
    "duration": 12,
    "start_time": "2022-11-15T17:39:45.749Z"
   },
   {
    "duration": 11,
    "start_time": "2022-11-15T17:39:45.762Z"
   },
   {
    "duration": 47,
    "start_time": "2022-11-15T17:39:45.775Z"
   },
   {
    "duration": 28,
    "start_time": "2022-11-15T17:39:45.824Z"
   },
   {
    "duration": 17,
    "start_time": "2022-11-15T17:39:45.855Z"
   },
   {
    "duration": 680,
    "start_time": "2022-11-15T17:39:45.874Z"
   },
   {
    "duration": 648,
    "start_time": "2022-11-15T17:39:46.556Z"
   },
   {
    "duration": 34,
    "start_time": "2022-11-15T17:39:47.206Z"
   },
   {
    "duration": 16,
    "start_time": "2022-11-15T17:39:47.247Z"
   },
   {
    "duration": 9,
    "start_time": "2022-11-15T17:39:47.265Z"
   },
   {
    "duration": 726,
    "start_time": "2022-11-15T17:39:47.276Z"
   },
   {
    "duration": 735,
    "start_time": "2022-11-15T17:39:48.003Z"
   },
   {
    "duration": 10,
    "start_time": "2022-11-15T17:39:48.740Z"
   },
   {
    "duration": 212,
    "start_time": "2022-11-15T17:39:48.752Z"
   },
   {
    "duration": 1189,
    "start_time": "2022-11-15T17:39:48.965Z"
   },
   {
    "duration": 166,
    "start_time": "2022-11-15T17:39:50.156Z"
   },
   {
    "duration": 105,
    "start_time": "2022-11-15T17:39:50.328Z"
   },
   {
    "duration": 11,
    "start_time": "2022-11-15T17:39:50.436Z"
   },
   {
    "duration": 18,
    "start_time": "2022-11-15T17:39:50.451Z"
   },
   {
    "duration": 48418,
    "start_time": "2022-11-15T17:47:40.688Z"
   },
   {
    "duration": 183,
    "start_time": "2022-11-15T17:53:17.453Z"
   },
   {
    "duration": 1772,
    "start_time": "2022-11-15T17:53:26.007Z"
   },
   {
    "duration": 12,
    "start_time": "2022-11-15T17:53:41.885Z"
   },
   {
    "duration": 2313,
    "start_time": "2022-11-15T17:54:12.205Z"
   },
   {
    "duration": 10,
    "start_time": "2022-11-15T18:22:13.753Z"
   },
   {
    "duration": 15,
    "start_time": "2022-11-15T18:22:41.245Z"
   },
   {
    "duration": 2484,
    "start_time": "2022-11-15T18:22:52.431Z"
   },
   {
    "duration": 2271,
    "start_time": "2022-11-15T18:22:54.917Z"
   },
   {
    "duration": 1240,
    "start_time": "2022-11-15T18:22:57.190Z"
   },
   {
    "duration": 40,
    "start_time": "2022-11-15T18:22:58.432Z"
   },
   {
    "duration": 18,
    "start_time": "2022-11-15T18:22:58.474Z"
   },
   {
    "duration": 16,
    "start_time": "2022-11-15T18:22:58.493Z"
   },
   {
    "duration": 13,
    "start_time": "2022-11-15T18:22:58.510Z"
   },
   {
    "duration": 24,
    "start_time": "2022-11-15T18:22:58.525Z"
   },
   {
    "duration": 3,
    "start_time": "2022-11-15T18:22:58.551Z"
   },
   {
    "duration": 116,
    "start_time": "2022-11-15T18:22:58.556Z"
   },
   {
    "duration": 0,
    "start_time": "2022-11-15T18:22:58.675Z"
   },
   {
    "duration": 0,
    "start_time": "2022-11-15T18:22:58.677Z"
   },
   {
    "duration": 0,
    "start_time": "2022-11-15T18:22:58.678Z"
   },
   {
    "duration": 0,
    "start_time": "2022-11-15T18:22:58.679Z"
   },
   {
    "duration": 0,
    "start_time": "2022-11-15T18:22:58.681Z"
   },
   {
    "duration": 0,
    "start_time": "2022-11-15T18:22:58.682Z"
   },
   {
    "duration": 0,
    "start_time": "2022-11-15T18:22:58.683Z"
   },
   {
    "duration": 0,
    "start_time": "2022-11-15T18:22:58.684Z"
   },
   {
    "duration": 0,
    "start_time": "2022-11-15T18:22:58.686Z"
   },
   {
    "duration": 0,
    "start_time": "2022-11-15T18:22:58.687Z"
   },
   {
    "duration": 1,
    "start_time": "2022-11-15T18:22:58.712Z"
   },
   {
    "duration": 0,
    "start_time": "2022-11-15T18:22:58.713Z"
   },
   {
    "duration": 0,
    "start_time": "2022-11-15T18:22:58.714Z"
   },
   {
    "duration": 0,
    "start_time": "2022-11-15T18:22:58.715Z"
   },
   {
    "duration": 0,
    "start_time": "2022-11-15T18:22:58.715Z"
   },
   {
    "duration": 0,
    "start_time": "2022-11-15T18:22:58.717Z"
   },
   {
    "duration": 0,
    "start_time": "2022-11-15T18:22:58.723Z"
   },
   {
    "duration": 0,
    "start_time": "2022-11-15T18:22:58.726Z"
   },
   {
    "duration": 1,
    "start_time": "2022-11-15T18:22:58.727Z"
   },
   {
    "duration": 0,
    "start_time": "2022-11-15T18:22:58.729Z"
   },
   {
    "duration": 13,
    "start_time": "2022-11-15T18:23:12.341Z"
   },
   {
    "duration": 3,
    "start_time": "2022-11-15T18:24:00.142Z"
   },
   {
    "duration": 40,
    "start_time": "2022-11-15T18:24:04.701Z"
   },
   {
    "duration": 1392,
    "start_time": "2022-11-15T18:24:48.538Z"
   },
   {
    "duration": 1445,
    "start_time": "2022-11-15T18:24:57.946Z"
   },
   {
    "duration": 1435,
    "start_time": "2022-11-15T18:25:14.378Z"
   },
   {
    "duration": 30,
    "start_time": "2022-11-15T18:25:31.111Z"
   },
   {
    "duration": 1555,
    "start_time": "2022-11-15T18:25:50.475Z"
   },
   {
    "duration": 6,
    "start_time": "2022-11-15T18:26:01.513Z"
   },
   {
    "duration": 2478,
    "start_time": "2022-11-15T18:26:10.081Z"
   },
   {
    "duration": 2149,
    "start_time": "2022-11-15T18:26:12.562Z"
   },
   {
    "duration": 1339,
    "start_time": "2022-11-15T18:26:14.713Z"
   },
   {
    "duration": 34,
    "start_time": "2022-11-15T18:26:16.054Z"
   },
   {
    "duration": 20,
    "start_time": "2022-11-15T18:26:16.089Z"
   },
   {
    "duration": 20,
    "start_time": "2022-11-15T18:26:16.110Z"
   },
   {
    "duration": 25,
    "start_time": "2022-11-15T18:26:16.132Z"
   },
   {
    "duration": 5,
    "start_time": "2022-11-15T18:26:16.159Z"
   },
   {
    "duration": 4,
    "start_time": "2022-11-15T18:26:16.165Z"
   },
   {
    "duration": 1445,
    "start_time": "2022-11-15T18:26:16.172Z"
   },
   {
    "duration": 0,
    "start_time": "2022-11-15T18:26:17.620Z"
   },
   {
    "duration": 0,
    "start_time": "2022-11-15T18:26:17.621Z"
   },
   {
    "duration": 0,
    "start_time": "2022-11-15T18:26:17.622Z"
   },
   {
    "duration": 0,
    "start_time": "2022-11-15T18:26:17.623Z"
   },
   {
    "duration": 0,
    "start_time": "2022-11-15T18:26:17.624Z"
   },
   {
    "duration": 0,
    "start_time": "2022-11-15T18:26:17.625Z"
   },
   {
    "duration": 0,
    "start_time": "2022-11-15T18:26:17.627Z"
   },
   {
    "duration": 0,
    "start_time": "2022-11-15T18:26:17.628Z"
   },
   {
    "duration": 0,
    "start_time": "2022-11-15T18:26:17.629Z"
   },
   {
    "duration": 0,
    "start_time": "2022-11-15T18:26:17.630Z"
   },
   {
    "duration": 0,
    "start_time": "2022-11-15T18:26:17.631Z"
   },
   {
    "duration": 0,
    "start_time": "2022-11-15T18:26:17.633Z"
   },
   {
    "duration": 0,
    "start_time": "2022-11-15T18:26:17.634Z"
   },
   {
    "duration": 0,
    "start_time": "2022-11-15T18:26:17.635Z"
   },
   {
    "duration": 0,
    "start_time": "2022-11-15T18:26:17.636Z"
   },
   {
    "duration": 0,
    "start_time": "2022-11-15T18:26:17.637Z"
   },
   {
    "duration": 0,
    "start_time": "2022-11-15T18:26:17.638Z"
   },
   {
    "duration": 0,
    "start_time": "2022-11-15T18:26:17.639Z"
   },
   {
    "duration": 0,
    "start_time": "2022-11-15T18:26:17.640Z"
   },
   {
    "duration": 0,
    "start_time": "2022-11-15T18:26:17.642Z"
   },
   {
    "duration": 12,
    "start_time": "2022-11-15T18:27:28.057Z"
   },
   {
    "duration": 9,
    "start_time": "2022-11-15T18:28:02.099Z"
   },
   {
    "duration": 1911,
    "start_time": "2022-11-15T18:28:28.673Z"
   },
   {
    "duration": 3,
    "start_time": "2022-11-15T18:28:35.269Z"
   },
   {
    "duration": 13,
    "start_time": "2022-11-15T18:29:30.438Z"
   },
   {
    "duration": 1364,
    "start_time": "2022-11-15T18:29:35.800Z"
   },
   {
    "duration": 3,
    "start_time": "2022-11-15T18:29:43.300Z"
   },
   {
    "duration": 11,
    "start_time": "2022-11-15T18:29:45.879Z"
   },
   {
    "duration": 16,
    "start_time": "2022-11-15T18:30:15.503Z"
   },
   {
    "duration": 3,
    "start_time": "2022-11-15T18:30:21.654Z"
   },
   {
    "duration": 12,
    "start_time": "2022-11-15T18:30:25.039Z"
   },
   {
    "duration": 3,
    "start_time": "2022-11-15T18:31:09.545Z"
   },
   {
    "duration": 12,
    "start_time": "2022-11-15T18:31:11.639Z"
   },
   {
    "duration": 3,
    "start_time": "2022-11-15T18:48:29.585Z"
   },
   {
    "duration": 12,
    "start_time": "2022-11-15T18:48:31.481Z"
   },
   {
    "duration": 11,
    "start_time": "2022-11-15T18:49:34.097Z"
   },
   {
    "duration": 11,
    "start_time": "2022-11-15T18:50:31.649Z"
   },
   {
    "duration": 11,
    "start_time": "2022-11-15T18:50:37.342Z"
   },
   {
    "duration": 11,
    "start_time": "2022-11-15T18:50:39.796Z"
   },
   {
    "duration": 10,
    "start_time": "2022-11-15T18:51:03.383Z"
   },
   {
    "duration": 2409,
    "start_time": "2022-11-15T18:51:19.189Z"
   },
   {
    "duration": 2072,
    "start_time": "2022-11-15T18:51:21.600Z"
   },
   {
    "duration": 1231,
    "start_time": "2022-11-15T18:51:23.674Z"
   },
   {
    "duration": 48,
    "start_time": "2022-11-15T18:51:24.906Z"
   },
   {
    "duration": 20,
    "start_time": "2022-11-15T18:51:24.955Z"
   },
   {
    "duration": 11,
    "start_time": "2022-11-15T18:51:24.976Z"
   },
   {
    "duration": 6,
    "start_time": "2022-11-15T18:51:24.988Z"
   },
   {
    "duration": 6,
    "start_time": "2022-11-15T18:51:24.995Z"
   },
   {
    "duration": 6,
    "start_time": "2022-11-15T18:51:25.002Z"
   },
   {
    "duration": 29,
    "start_time": "2022-11-15T18:51:25.010Z"
   },
   {
    "duration": 13,
    "start_time": "2022-11-15T18:51:25.044Z"
   },
   {
    "duration": 9,
    "start_time": "2022-11-15T18:51:25.058Z"
   },
   {
    "duration": 7,
    "start_time": "2022-11-15T18:51:25.069Z"
   },
   {
    "duration": 10,
    "start_time": "2022-11-15T18:51:25.077Z"
   },
   {
    "duration": 56,
    "start_time": "2022-11-15T18:51:25.089Z"
   },
   {
    "duration": 17,
    "start_time": "2022-11-15T18:51:25.147Z"
   },
   {
    "duration": 18,
    "start_time": "2022-11-15T18:51:25.166Z"
   },
   {
    "duration": 684,
    "start_time": "2022-11-15T18:51:25.185Z"
   },
   {
    "duration": 627,
    "start_time": "2022-11-15T18:51:25.870Z"
   },
   {
    "duration": 37,
    "start_time": "2022-11-15T18:51:26.499Z"
   },
   {
    "duration": 10,
    "start_time": "2022-11-15T18:51:26.537Z"
   },
   {
    "duration": 10,
    "start_time": "2022-11-15T18:51:26.548Z"
   },
   {
    "duration": 705,
    "start_time": "2022-11-15T18:51:26.560Z"
   },
   {
    "duration": 700,
    "start_time": "2022-11-15T18:51:27.266Z"
   },
   {
    "duration": 7,
    "start_time": "2022-11-15T18:51:27.968Z"
   },
   {
    "duration": 179,
    "start_time": "2022-11-15T18:51:27.976Z"
   },
   {
    "duration": 1097,
    "start_time": "2022-11-15T18:51:28.157Z"
   },
   {
    "duration": 195,
    "start_time": "2022-11-15T18:51:29.257Z"
   },
   {
    "duration": 100,
    "start_time": "2022-11-15T18:51:29.454Z"
   },
   {
    "duration": 2329,
    "start_time": "2022-11-15T18:51:29.556Z"
   },
   {
    "duration": 8,
    "start_time": "2022-11-15T18:51:31.887Z"
   },
   {
    "duration": 22,
    "start_time": "2022-11-15T18:51:31.896Z"
   },
   {
    "duration": 2131,
    "start_time": "2022-11-15T19:11:26.441Z"
   },
   {
    "duration": 1894,
    "start_time": "2022-11-15T19:11:28.574Z"
   },
   {
    "duration": 1191,
    "start_time": "2022-11-15T19:11:30.470Z"
   },
   {
    "duration": 34,
    "start_time": "2022-11-15T19:11:31.663Z"
   },
   {
    "duration": 20,
    "start_time": "2022-11-15T19:11:31.700Z"
   },
   {
    "duration": 12,
    "start_time": "2022-11-15T19:11:31.721Z"
   },
   {
    "duration": 8,
    "start_time": "2022-11-15T19:11:31.735Z"
   },
   {
    "duration": 10,
    "start_time": "2022-11-15T19:11:31.744Z"
   },
   {
    "duration": 3,
    "start_time": "2022-11-15T19:11:31.756Z"
   },
   {
    "duration": 18,
    "start_time": "2022-11-15T19:11:31.760Z"
   },
   {
    "duration": 40,
    "start_time": "2022-11-15T19:11:31.780Z"
   },
   {
    "duration": 10,
    "start_time": "2022-11-15T19:11:31.821Z"
   },
   {
    "duration": 15,
    "start_time": "2022-11-15T19:11:31.832Z"
   },
   {
    "duration": 12,
    "start_time": "2022-11-15T19:11:31.849Z"
   },
   {
    "duration": 56,
    "start_time": "2022-11-15T19:11:31.863Z"
   },
   {
    "duration": 17,
    "start_time": "2022-11-15T19:11:31.921Z"
   },
   {
    "duration": 18,
    "start_time": "2022-11-15T19:11:31.939Z"
   },
   {
    "duration": 631,
    "start_time": "2022-11-15T19:11:31.958Z"
   },
   {
    "duration": 590,
    "start_time": "2022-11-15T19:11:32.591Z"
   },
   {
    "duration": 2,
    "start_time": "2022-11-15T19:11:33.183Z"
   },
   {
    "duration": 6,
    "start_time": "2022-11-15T19:11:33.187Z"
   },
   {
    "duration": 6,
    "start_time": "2022-11-15T19:11:33.194Z"
   },
   {
    "duration": 676,
    "start_time": "2022-11-15T19:11:33.201Z"
   },
   {
    "duration": 638,
    "start_time": "2022-11-15T19:11:33.879Z"
   },
   {
    "duration": 10,
    "start_time": "2022-11-15T19:11:34.519Z"
   },
   {
    "duration": 204,
    "start_time": "2022-11-15T19:11:34.531Z"
   },
   {
    "duration": 1003,
    "start_time": "2022-11-15T19:11:34.736Z"
   },
   {
    "duration": 133,
    "start_time": "2022-11-15T19:11:35.741Z"
   },
   {
    "duration": 78,
    "start_time": "2022-11-15T19:11:35.913Z"
   },
   {
    "duration": 2165,
    "start_time": "2022-11-15T19:11:35.993Z"
   },
   {
    "duration": 6,
    "start_time": "2022-11-15T19:11:38.159Z"
   },
   {
    "duration": 9,
    "start_time": "2022-11-15T19:11:38.167Z"
   },
   {
    "duration": 2321,
    "start_time": "2022-11-15T19:14:01.739Z"
   },
   {
    "duration": 2076,
    "start_time": "2022-11-15T19:14:04.062Z"
   },
   {
    "duration": 1230,
    "start_time": "2022-11-15T19:14:06.140Z"
   },
   {
    "duration": 33,
    "start_time": "2022-11-15T19:14:07.371Z"
   },
   {
    "duration": 31,
    "start_time": "2022-11-15T19:14:07.406Z"
   },
   {
    "duration": 10,
    "start_time": "2022-11-15T19:14:07.440Z"
   },
   {
    "duration": 6,
    "start_time": "2022-11-15T19:14:07.452Z"
   },
   {
    "duration": 5,
    "start_time": "2022-11-15T19:14:07.460Z"
   },
   {
    "duration": 3,
    "start_time": "2022-11-15T19:14:07.466Z"
   },
   {
    "duration": 14,
    "start_time": "2022-11-15T19:14:07.471Z"
   },
   {
    "duration": 35,
    "start_time": "2022-11-15T19:14:07.487Z"
   },
   {
    "duration": 20,
    "start_time": "2022-11-15T19:14:07.523Z"
   },
   {
    "duration": 12,
    "start_time": "2022-11-15T19:14:07.544Z"
   },
   {
    "duration": 11,
    "start_time": "2022-11-15T19:14:07.558Z"
   },
   {
    "duration": 74,
    "start_time": "2022-11-15T19:14:07.571Z"
   },
   {
    "duration": 20,
    "start_time": "2022-11-15T19:14:07.648Z"
   },
   {
    "duration": 17,
    "start_time": "2022-11-15T19:14:07.669Z"
   },
   {
    "duration": 698,
    "start_time": "2022-11-15T19:14:07.688Z"
   },
   {
    "duration": 662,
    "start_time": "2022-11-15T19:14:08.388Z"
   },
   {
    "duration": 2,
    "start_time": "2022-11-15T19:14:09.051Z"
   },
   {
    "duration": 8,
    "start_time": "2022-11-15T19:14:09.055Z"
   },
   {
    "duration": 6,
    "start_time": "2022-11-15T19:14:09.065Z"
   },
   {
    "duration": 730,
    "start_time": "2022-11-15T19:14:09.073Z"
   },
   {
    "duration": 750,
    "start_time": "2022-11-15T19:14:09.804Z"
   },
   {
    "duration": 11,
    "start_time": "2022-11-15T19:14:10.557Z"
   },
   {
    "duration": 208,
    "start_time": "2022-11-15T19:14:10.569Z"
   },
   {
    "duration": 1083,
    "start_time": "2022-11-15T19:14:10.778Z"
   },
   {
    "duration": 193,
    "start_time": "2022-11-15T19:14:11.864Z"
   },
   {
    "duration": 96,
    "start_time": "2022-11-15T19:14:12.059Z"
   },
   {
    "duration": 2397,
    "start_time": "2022-11-15T19:14:12.156Z"
   },
   {
    "duration": 7,
    "start_time": "2022-11-15T19:14:14.555Z"
   },
   {
    "duration": 7,
    "start_time": "2022-11-15T19:14:14.564Z"
   },
   {
    "duration": 110,
    "start_time": "2022-11-16T13:57:52.083Z"
   },
   {
    "duration": 2297,
    "start_time": "2022-11-26T20:15:19.866Z"
   },
   {
    "duration": 2083,
    "start_time": "2022-11-26T20:18:50.467Z"
   },
   {
    "duration": 42093,
    "start_time": "2022-11-26T20:18:52.553Z"
   },
   {
    "duration": 2819,
    "start_time": "2022-11-26T20:19:34.648Z"
   },
   {
    "duration": 1330,
    "start_time": "2022-11-26T20:19:37.471Z"
   },
   {
    "duration": 83,
    "start_time": "2022-11-26T20:19:38.803Z"
   },
   {
    "duration": 18,
    "start_time": "2022-11-26T20:19:38.888Z"
   },
   {
    "duration": 16,
    "start_time": "2022-11-26T20:19:38.908Z"
   },
   {
    "duration": 7,
    "start_time": "2022-11-26T20:19:38.926Z"
   },
   {
    "duration": 5,
    "start_time": "2022-11-26T20:19:38.935Z"
   },
   {
    "duration": 6,
    "start_time": "2022-11-26T20:19:38.944Z"
   },
   {
    "duration": 13,
    "start_time": "2022-11-26T20:19:38.951Z"
   },
   {
    "duration": 11,
    "start_time": "2022-11-26T20:19:38.966Z"
   },
   {
    "duration": 42,
    "start_time": "2022-11-26T20:19:38.978Z"
   },
   {
    "duration": 10,
    "start_time": "2022-11-26T20:19:39.022Z"
   },
   {
    "duration": 12,
    "start_time": "2022-11-26T20:19:39.033Z"
   },
   {
    "duration": 66,
    "start_time": "2022-11-26T20:19:39.047Z"
   },
   {
    "duration": 17,
    "start_time": "2022-11-26T20:19:39.115Z"
   },
   {
    "duration": 52,
    "start_time": "2022-11-26T20:19:39.134Z"
   },
   {
    "duration": 672,
    "start_time": "2022-11-26T20:19:39.188Z"
   },
   {
    "duration": 715,
    "start_time": "2022-11-26T20:19:39.861Z"
   },
   {
    "duration": 627,
    "start_time": "2022-11-26T20:19:40.578Z"
   },
   {
    "duration": 645,
    "start_time": "2022-11-26T20:19:41.211Z"
   },
   {
    "duration": 9,
    "start_time": "2022-11-26T20:19:41.858Z"
   },
   {
    "duration": 188,
    "start_time": "2022-11-26T20:19:41.868Z"
   },
   {
    "duration": 1961,
    "start_time": "2022-11-26T20:19:42.058Z"
   },
   {
    "duration": 223,
    "start_time": "2022-11-26T20:19:44.021Z"
   },
   {
    "duration": 220,
    "start_time": "2022-11-26T20:19:44.246Z"
   },
   {
    "duration": 2443,
    "start_time": "2022-11-26T20:19:44.469Z"
   },
   {
    "duration": 8,
    "start_time": "2022-11-26T20:19:46.914Z"
   },
   {
    "duration": 10,
    "start_time": "2022-11-26T20:19:46.924Z"
   }
  ],
  "kernelspec": {
   "display_name": "Python 3 (ipykernel)",
   "language": "python",
   "name": "python3"
  },
  "language_info": {
   "codemirror_mode": {
    "name": "ipython",
    "version": 3
   },
   "file_extension": ".py",
   "mimetype": "text/x-python",
   "name": "python",
   "nbconvert_exporter": "python",
   "pygments_lexer": "ipython3",
   "version": "3.9.5"
  },
  "toc": {
   "base_numbering": 1,
   "nav_menu": {
    "height": "200.646px",
    "width": "201.333px"
   },
   "number_sections": true,
   "sideBar": true,
   "skip_h1_title": true,
   "title_cell": "Банки — Сегментация пользователей по потреблению",
   "title_sidebar": "Contents",
   "toc_cell": true,
   "toc_position": {
    "height": "calc(100% - 180px)",
    "left": "10px",
    "top": "150px",
    "width": "512px"
   },
   "toc_section_display": true,
   "toc_window_display": false
  }
 },
 "nbformat": 4,
 "nbformat_minor": 5
}
